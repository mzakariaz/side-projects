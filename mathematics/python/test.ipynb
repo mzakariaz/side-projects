{
 "cells": [
  {
   "cell_type": "markdown",
   "metadata": {},
   "source": [
    "# **Numerical Integral Estimator**\n",
    "\n",
    "## **Contents**\n",
    "- [Introduction](#Introduction)\n",
    "- [The Midpoint Rule](#The-Midpoint-Rule)\n",
    "- [The Trapezoidal Rule](#The-Trapezoidal-Rule)\n",
    "- [Simpson's Rule](#Simpson's-Rule)\n",
    "- [Monte Carlo Method](#Monte-Carlo-Method)\n",
    "- [Credits](#Credits)\n",
    "\n",
    "\n",
    "## **Introduction**"
   ]
  },
  {
   "cell_type": "markdown",
   "metadata": {},
   "source": [
    "This project aims to implement standard numerical techniques for computing definite integrals in Python. In particular, the midpoint, trapezoidal and Simpson's rules, as well as the Monte Carlo method from standard continuous uniform random variables are implemented using the `numpy` and `sympy` libraries. A random seed value will be set for reproducibiity. The `time` library is also imported in order to display the computation time of each implementation, as well as the number of iterations per second excuted. In what follows, the following integral will be approximated as an example:\n",
    "$$\\int_{-100}^{100}e^{-x^2}\\mathrm{d}x$$\n",
    "which, up to nine decimal places, satisfies:\n",
    "$$\\int_{-100}^{100}e^{-x^2}\\mathrm{d}x \\approx \\int_{-\\infty}^{+\\infty}e^{-x^2}\\mathrm{d}x = \\sqrt{\\pi} \\approx 1.772453851$$"
   ]
  },
  {
   "cell_type": "code",
   "execution_count": 22,
   "metadata": {},
   "outputs": [],
   "source": [
    "import time as tm\n",
    "import numpy as np\n",
    "import sympy as smp\n",
    "\n",
    "np.random.seed(30)\n",
    "\n",
    "x = smp.symbols(\"x\")\n",
    "f = smp.exp(-x**2)\n",
    "a = -100\n",
    "b = 100\n",
    "n = 1000000"
   ]
  },
  {
   "cell_type": "markdown",
   "metadata": {},
   "source": [
    "## **The Midpoint Rule**\n",
    "Let $(a,b)$ be an ordered pair of real numbers in $\\mathbb{R}^2$ such that $a < b$, let $f$ be a continuous function in $\\mathscr{C}\\left([a,b],\\mathbb{R}\\right)$ and let $n$ be a non-zero natural number in $\\mathbb{N}^{*}$. The *midpoint rule approximation of $\\int_{a}^{b}f(x)\\mathrm{d}x$ of order $n$* is the real number denoted by $\\mathrm{M}_{n, [a,b]}(f)$ and defined by\n",
    "$$\\mathrm{M}_{n, [a,b]}(f) = \\frac{b - a}{n}\\sum_{k=1}^{n}f\\left(a + \\frac{(b-a)(2k-1)}{2n}\\right)$$\n",
    "It can be proven that:\n",
    "$$\\lim_{n \\to +\\infty}\\left(\\mathrm{M}_{n, [a,b]}(f)\\right) = \\int_{a}^{b}f(x)\\mathrm{d}x$$\n",
    "although the proof is omitted. The Python implementation of the midpoint rule is given in the code cell below, alongside the calculated value and computation time."
   ]
  },
  {
   "cell_type": "code",
   "execution_count": 23,
   "metadata": {},
   "outputs": [
    {
     "name": "stdout",
     "output_type": "stream",
     "text": [
      "Function: exp(-x**2)\n",
      "Domain: [-100, 100]\n",
      "Evaluate: \\int\\limits_{-100}^{100} e^{- x^{2}}\\, dx\n",
      "Method: Midpoint Rule\n",
      "Number of iterations: 1,000,000\n",
      "Estimate: 1.772453850905516\n",
      "Exact Value: 1.77245385090552\n",
      "Relative error: 0.00%\n",
      "Computation time: 2.526 seconds\n",
      "Iterations per second: 395,899\n"
     ]
    },
    {
     "data": {
      "text/plain": [
       "1.772453850905516"
      ]
     },
     "execution_count": 23,
     "metadata": {},
     "output_type": "execute_result"
    }
   ],
   "source": [
    "def midpoint_rule(f, a, b, n, show_performance_metrics = False):\n",
    "    x = smp.symbols(\"x\")\n",
    "    assert a < b and type(n) is int\n",
    "    g = smp.lambdify(x, f, 'numpy')\n",
    "    start = tm.time()\n",
    "    g = np.vectorize(g)\n",
    "    dx = (b - a) / n\n",
    "    P = np.linspace(a, b, n + 1)\n",
    "    S = (P + np.diff(P)[0] / 2)[:-1]\n",
    "    estimate = float(dx * np.sum(g(S)))\n",
    "    end = tm.time()\n",
    "    computation_time = end - start\n",
    "    if computation_time == 0.0:\n",
    "        iterations_per_second = \"\\u221e\"\n",
    "    else:\n",
    "        iterations_per_second = f\"{int(n / computation_time):,}\"\n",
    "    integral = smp.integrate(f, (x, a, b)).evalf()\n",
    "    if show_performance_metrics:\n",
    "        print(f\"Function: {f}\")\n",
    "        print(f\"Domain: [{a}, {b}]\")\n",
    "        print(f\"Evaluate: {smp.printing.latex(smp.Integral(f, (x, a, b)))}\")\n",
    "        print(f\"Method: {midpoint_rule.__name__}\")\n",
    "        print(f\"Number of iterations: {n:,}\")\n",
    "        print(f\"Estimate: {estimate}\")\n",
    "        print(f\"Exact Value: {integral}\")\n",
    "        print(f\"Relative error: {100 * (estimate - integral) / integral:.2f}%\")\n",
    "        print(f\"Computation time: {computation_time:.3f} seconds\")\n",
    "        print(f\"Iterations per second: {iterations_per_second}\")\n",
    "    else:\n",
    "        pass\n",
    "    return estimate\n",
    "\n",
    "midpoint_rule.__name__ = \"Midpoint Rule\"\n",
    "\n",
    "midpoint_rule(f, a, b, n, True)"
   ]
  },
  {
   "cell_type": "markdown",
   "metadata": {},
   "source": [
    "## **The Trapezoidal Rule**\n",
    "Let $(a,b)$ be an ordered pair of real numbers in $\\mathbb{R}^2$ such that $a < b$, let $f$ be a continuous function in $\\mathscr{C}\\left([a,b],\\mathbb{R}\\right)$ and let $n$ be a non-zero natural number in $\\mathbb{N}^{*}$. The *trapezoidal rule approximation of $\\int_{a}^{b}f(x)\\mathrm{d}x$ of order $n$* is the real number denoted by $\\mathrm{T}_{n, [a,b]}(f)$ and defined by\n",
    "$$\\mathrm{T}_{n, [a,b]}(f) = \\frac{b-a}{2n}\\left(f(a)+2\\sum_{k=1}^{n-1}f\\left(a+\\frac{(b-a)k}{n}\\right)+f(b)\\right)$$\n",
    "It can be proven that:\n",
    "$$\\lim_{n \\to +\\infty}\\left(\\mathrm{T}_{n, [a,b]}(f)\\right) = \\int_{a}^{b}f(x)\\mathrm{d}x$$\n",
    "although the proof is omitted. The Python implementation of the trapezoidal rule is given in the code cell below, alongside the calculated value and computation time."
   ]
  },
  {
   "cell_type": "code",
   "execution_count": 24,
   "metadata": {},
   "outputs": [
    {
     "name": "stdout",
     "output_type": "stream",
     "text": [
      "Function: exp(-x**2)\n",
      "Domain: [-100, 100]\n",
      "Evaluate: \\int\\limits_{-100}^{100} e^{- x^{2}}\\, dx\n",
      "Method: Trapezoidal Rule\n",
      "Number of iterations: 1,000,000\n",
      "Estimate: 1.772453850905516\n",
      "Exact Value: 1.77245385090552\n",
      "Relative error: 0.00%\n",
      "Computation time: 5.563 seconds\n",
      "Iterations per second: 179,771\n"
     ]
    },
    {
     "data": {
      "text/plain": [
       "1.772453850905516"
      ]
     },
     "execution_count": 24,
     "metadata": {},
     "output_type": "execute_result"
    }
   ],
   "source": [
    "def trapezoidal_rule(f, a, b, n, show_performance_metrics = False):\n",
    "    x = smp.symbols(\"x\")\n",
    "    assert a < b and type(n) is int\n",
    "    g = smp.lambdify(x, f, 'numpy')\n",
    "    start = tm.time()\n",
    "    g = np.vectorize(g)\n",
    "    dx = (b - a) / n\n",
    "    P = np.linspace(a, b, n + 1)\n",
    "    S = (P + np.diff(P)[0] / 2)[:-1]\n",
    "    estimate = float(dx * np.sum(g(S)))\n",
    "    F = g(P)\n",
    "    estimate = (dx / 2) * np.sum(np.concatenate(([F[0]], 2 * F[1:-1], [F[-1]])))\n",
    "    end = tm.time()\n",
    "    computation_time = end - start\n",
    "    if computation_time == 0.0:\n",
    "        iterations_per_second = \"\\u221e\"\n",
    "    else:\n",
    "        iterations_per_second = f\"{int(n / computation_time):,}\"\n",
    "    integral = smp.integrate(f, (x, a, b)).evalf()\n",
    "    if show_performance_metrics:\n",
    "        print(f\"Function: {f}\")\n",
    "        print(f\"Domain: [{a}, {b}]\")\n",
    "        print(f\"Evaluate: {smp.printing.latex(smp.Integral(f, (x, a, b)))}\")\n",
    "        print(f\"Method: {trapezoidal_rule.__name__}\")\n",
    "        print(f\"Number of iterations: {n:,}\")\n",
    "        print(f\"Estimate: {estimate}\")\n",
    "        print(f\"Exact Value: {integral}\")\n",
    "        print(f\"Relative error: {100 * (estimate - integral) / integral:.2f}%\")\n",
    "        print(f\"Computation time: {computation_time:.3f} seconds\")\n",
    "        print(f\"Iterations per second: {iterations_per_second}\")\n",
    "    else:\n",
    "        pass\n",
    "    return estimate\n",
    "\n",
    "trapezoidal_rule.__name__ = \"Trapezoidal Rule\"\n",
    "\n",
    "trapezoidal_rule(f, a, b, n, True)"
   ]
  },
  {
   "cell_type": "markdown",
   "metadata": {},
   "source": [
    "## **Simpson's Rule**\n",
    "Let $(a,b)$ be an ordered pair of real numbers in $\\mathbb{R}^2$ such that $a < b$, let $f$ be a continuous function in $\\mathscr{C}\\left([a,b],\\mathbb{R}\\right)$ and let $n$ be a non-zero natural number in $\\mathbb{N}^{*}$. The *Simpson's rule approximation of $\\int_{a}^{b}f(x)\\mathrm{d}x$ of order $n$* is the real number denoted by $\\mathrm{S}_{n, [a,b]}(f)$ and defined by\n",
    "$$\\mathrm{S}_{n, [a,b]}(f) = \\frac{b-a}{3n}\\left(f(a)+4\\sum_{k=1}^{\\lfloor n/2\\rfloor}f\\left(a + \\frac{(b-a)(2k-1)}{n}\\right)+2\\sum_{k=1}^{\\lfloor n/2\\rfloor - 1}f\\left(a + \\frac{2(b-a)k}{n}\\right)+f(b)\\right)$$\n",
    "It can be proven that:\n",
    "$$\\lim_{n \\to +\\infty}\\left(\\mathrm{S}_{n, [a,b]}(f)\\right) = \\int_{a}^{b}f(x)\\mathrm{d}x$$\n",
    "although the proof is omitted. The Python implementation of Simpson's rule is given in the code cell below, alongside the calculated value and computation time."
   ]
  },
  {
   "cell_type": "code",
   "execution_count": 25,
   "metadata": {},
   "outputs": [
    {
     "name": "stdout",
     "output_type": "stream",
     "text": [
      "Function: exp(-x**2)\n",
      "Domain: [-100, 100]\n",
      "Evaluate: \\int\\limits_{-100}^{100} e^{- x^{2}}\\, dx\n",
      "Method: Simpson's Rule\n",
      "Number of iterations: 1,000,000\n",
      "Estimate: 1.7724538509055159\n",
      "Exact Value: 1.77245385090552\n",
      "Relative error: -0.00%\n",
      "Computation time: 5.337 seconds\n",
      "Iterations per second: 187,357\n"
     ]
    },
    {
     "data": {
      "text/plain": [
       "1.7724538509055159"
      ]
     },
     "execution_count": 25,
     "metadata": {},
     "output_type": "execute_result"
    }
   ],
   "source": [
    "def simpsons_rule(f, a, b, n, show_performance_metrics = True):\n",
    "    x = smp.symbols(\"x\")\n",
    "    assert a < b and type(n) is int\n",
    "    g = smp.lambdify(x, f, 'numpy')\n",
    "    start = tm.time()\n",
    "    g = np.vectorize(g)\n",
    "    dx = (b - a) / n\n",
    "    P = np.linspace(a, b, n + 1)\n",
    "    S = (P + np.diff(P)[0] / 2)[:-1]\n",
    "    estimate = float(dx * np.sum(g(S)))\n",
    "    F = g(P)\n",
    "    estimate = (dx / 3) * np.sum(np.concatenate(([F[0]], 4 * F[1:n:2], 2 * F[2:n-1:2], [F[-1]])))\n",
    "    end = tm.time()\n",
    "    computation_time = end - start\n",
    "    if computation_time == 0.0:\n",
    "        iterations_per_second = \"\\u221e\"\n",
    "    else:\n",
    "        iterations_per_second = f\"{int(n / computation_time):,}\"\n",
    "    integral = smp.integrate(f, (x, a, b)).evalf()\n",
    "    if show_performance_metrics:\n",
    "        print(f\"Function: {f}\")\n",
    "        print(f\"Domain: [{a}, {b}]\")\n",
    "        print(f\"Evaluate: {smp.printing.latex(smp.Integral(f, (x, a, b)))}\")\n",
    "        print(f\"Method: {simpsons_rule.__name__}\")\n",
    "        print(f\"Number of iterations: {n:,}\")\n",
    "        print(f\"Estimate: {estimate}\")\n",
    "        print(f\"Exact Value: {integral}\")\n",
    "        print(f\"Relative error: {100 * (estimate - integral) / integral:.2f}%\")\n",
    "        print(f\"Computation time: {computation_time:.3f} seconds\")\n",
    "        print(f\"Iterations per second: {iterations_per_second}\")\n",
    "    else:\n",
    "        pass\n",
    "    return estimate\n",
    "\n",
    "simpsons_rule.__name__ = \"Simpson's Rule\"\n",
    "\n",
    "simpsons_rule(f, a, b, n, True)"
   ]
  },
  {
   "cell_type": "markdown",
   "metadata": {},
   "source": [
    "## **Monte Carlo Method**\n",
    "Let $(a,b)$ be an ordered pair of real numbers in $\\mathbb{R}^2$ such that $a < b$, let $f$ be a continuous function in $\\mathscr{C}\\left([a,b],\\mathbb{R}\\right)$ and let $n$ be a non-zero natural number in $\\mathbb{N}^{*}$, let $(\\Omega, \\mathscr{F}, \\mathbb{P})$ be a probability space and let $U$ be a standard continuous uniform random variable on $(\\Omega, \\mathscr{F}, \\mathbb{P})$, that is, a random variable on $(\\Omega, \\mathscr{F}, \\mathbb{P})$ such that $U \\hookrightarrow \\mathsf{ContinuousUniform}\\left(0, 1\\right)$. Then it follows by $\\left(\\mathscr{B}([a,b]),\\mathscr{B}(\\mathbb{R})\\right)$-measurability (i.e., Borel measurability) of $f$ (which itself follows from continuity of $f$) and by the law of the subconscious statistician that $(b - a)f\\left(a + (b - a)U\\right)$ is a well-defined random variable on $(\\Omega,\\mathscr{F},\\mathbb{P})$ and that one has:\n",
    "$$\\mathbb{E}\\left((b - a)f\\left(a + (b - a)U\\right)\\right) = \\int_{a}^{b}f(x)\\mathrm{d}x$$\n",
    "Thus, from the strong law of large numbers that, if $(U_{n})_{n \\in \\mathbb{N}}$ is an independent and identically distributed sequence of standard continuous uniform random variables, then $\\left((b-a)f\\left(a + (b-a)U_{n}\\right)\\right)_{n \\in \\mathbb{N}}$ is an independent and identically distributed sequence of random variables satisfying:\n",
    "$$\\frac{(b-a)\\sum_{k=0}^{n}f\\left(a + (b - a)U_{k}\\right)}{n+1} \\xrightarrow[n \\to +\\infty]{\\mathbb{P}\\text{-a.s.}} \\mathbb{E}\\left((b - a)f\\left(a + (b - a)U\\right)\\right) = \\int_{a}^{b}f(x)\\mathrm{d}x$$\n",
    "whereupon:\n",
    "$$\\frac{(b-a)\\sum_{k=0}^{n}f\\left(a + (b - a)U_{k}\\right)}{n+1} \\xrightarrow[n \\to +\\infty]{\\mathbb{P}\\text{-a.s.}} \\int_{a}^{b}f(x)\\mathrm{d}x$$"
   ]
  },
  {
   "cell_type": "code",
   "execution_count": 26,
   "metadata": {},
   "outputs": [
    {
     "name": "stdout",
     "output_type": "stream",
     "text": [
      "Function: exp(-x**2)\n",
      "Domain: [-100, 100]\n",
      "Evaluate: \\int\\limits_{-100}^{100} e^{- x^{2}}\\, dx\n",
      "Method: Monte Carlo Method\n",
      "Number of iterations: 1,000,000\n",
      "Estimate: 1.7830374618328642\n",
      "Exact Value: 1.77245385090552\n",
      "Relative error: 0.60%\n",
      "Computation time: 2.631 seconds\n",
      "Iterations per second: 380,026\n"
     ]
    },
    {
     "data": {
      "text/plain": [
       "1.7830374618328642"
      ]
     },
     "execution_count": 26,
     "metadata": {},
     "output_type": "execute_result"
    }
   ],
   "source": [
    "def monte_carlo_integral(f, a, b, n, show_performance_metrics = True):\n",
    "    x = smp.symbols(\"x\")\n",
    "    assert a < b and type(n) is int\n",
    "    g = smp.lambdify(x, f, 'numpy')\n",
    "    start = tm.time()\n",
    "    g = np.vectorize(g)\n",
    "    U = np.random.uniform(0, 1, n)\n",
    "    X = a + (b - a) * U\n",
    "    estimate = (b - a) * np.mean(g(X))\n",
    "    end = tm.time()\n",
    "    computation_time = end - start\n",
    "    if computation_time == 0.0:\n",
    "        iterations_per_second = \"\\u221e\"\n",
    "    else:\n",
    "        iterations_per_second = f\"{int(n / computation_time):,}\"\n",
    "    integral = smp.integrate(f, (x, a, b)).evalf()\n",
    "    if show_performance_metrics:\n",
    "        print(f\"Function: {f}\")\n",
    "        print(f\"Domain: [{a}, {b}]\")\n",
    "        print(f\"Evaluate: {smp.printing.latex(smp.Integral(f, (x, a, b)))}\")\n",
    "        print(f\"Method: {monte_carlo_integral.__name__}\")\n",
    "        print(f\"Number of iterations: {n:,}\")\n",
    "        print(f\"Estimate: {estimate}\")\n",
    "        print(f\"Exact Value: {integral}\")\n",
    "        print(f\"Relative error: {100 * (estimate - integral) / integral:.2f}%\")\n",
    "        print(f\"Computation time: {computation_time:.3f} seconds\")\n",
    "        print(f\"Iterations per second: {iterations_per_second}\")\n",
    "    else:\n",
    "        pass\n",
    "    return estimate\n",
    "\n",
    "monte_carlo_integral.__name__ = \"Monte Carlo Method\"\n",
    "\n",
    "monte_carlo_integral(f, a, b, n, True)"
   ]
  },
  {
   "cell_type": "markdown",
   "metadata": {},
   "source": [
    "## **Credits**\n",
    "- “[Numerical Integration - Midpoint, Trapezoid, Simpson’s Rule](https://math.libretexts.org/@go/page/10269).” 2021. July 25, 2021.\n",
    "- Wikipedia contributors, \"[Numerical integration](https://en.wikipedia.org/w/index.php?title=Numerical_integration&oldid=1188650985),\" Wikipedia, The Free Encyclopedia (accessed February 15, 2024)\n",
    "- Wikipedia contributors, \"[Riemann sum](https://en.wikipedia.org/w/index.php?title=Riemann_sum&oldid=1198175653),\" Wikipedia, The Free Encyclopedia (accessed February 16, 2024).\n",
    "- Wikipedia contributors, \"[Trapezoidal rule](https://en.wikipedia.org/w/index.php?title=Trapezoidal_rule&oldid=1181282452),\" Wikipedia, The Free Encyclopedia (accessed February 16, 2024).\n",
    "- Wikipedia contributors, \"[Simpson's rule](https://en.wikipedia.org/w/index.php?title=Simpson%27s_rule&oldid=1203533339),\" Wikipedia, The Free Encyclopedia (accessed February 16, 2024).\n",
    "- Wikipedia contributors, \"[Monte Carlo integration](https://en.wikipedia.org/w/index.php?title=Monte_Carlo_integration&oldid=1188150594),\" Wikipedia, The Free Encyclopedia (accessed February 16, 2024).\n",
    "- The original code is provided as-is in this project by Zakaria Zerrouki."
   ]
  }
 ],
 "metadata": {
  "kernelspec": {
   "display_name": "Python 3",
   "language": "python",
   "name": "python3"
  },
  "language_info": {
   "codemirror_mode": {
    "name": "ipython",
    "version": 3
   },
   "file_extension": ".py",
   "mimetype": "text/x-python",
   "name": "python",
   "nbconvert_exporter": "python",
   "pygments_lexer": "ipython3",
   "version": "3.10.11"
  }
 },
 "nbformat": 4,
 "nbformat_minor": 2
}
