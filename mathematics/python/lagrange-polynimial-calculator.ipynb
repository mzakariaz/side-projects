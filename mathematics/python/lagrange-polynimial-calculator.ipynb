{
 "cells": [
  {
   "cell_type": "markdown",
   "metadata": {},
   "source": [
    "# **Lagrange Polynomial Calculator (Work In Progress)**\n",
    "\n",
    "## **Contents**\n",
    "- [Introduction](#Introduction)\n",
    "- [The Lagrange Polynomial](#The-Lagrange-Polynomial)\n",
    "- [Python Implementation](#Python-Implementation)\n",
    "- [Credits](#Credits)\n",
    "\n",
    "\n",
    "## **Introduction**\n",
    "The purpose of this project is to calculate the Lagrange polynomial interpolating a set of points in the Cartesian plane. The `time`, `numpy`, `matplotlib` and `seaborn` libraries will be used. Moreover, the plot styles are changed for aesthetic reasons."
   ]
  },
  {
   "cell_type": "code",
   "execution_count": 1,
   "metadata": {},
   "outputs": [],
   "source": [
    "import time as tm\n",
    "import numpy as np\n",
    "import matplotlib.pyplot as plt\n",
    "import seaborn as sns\n",
    "\n",
    "palette = sns.color_palette(\"viridis_r\", as_cmap=True)\n",
    "sns.set_style(style = \"whitegrid\", rc = {\"font.family\":\"Times New Roman\", \"font.weight\":\"bold\"})"
   ]
  },
  {
   "cell_type": "markdown",
   "metadata": {},
   "source": [
    "## **The Lagrange Basis**\n",
    "Let $n$ be a non-zero natural number in $\\mathbb{N}$, let $\\mathbf{\\vec{x}}$ and $\\mathbf{\\vec{y}}$ be Euclidean vectors given by $\\mathbf{\\vec{x}} = \\left(x_{k}\\right)_{k = 1}^{n}$ and $\\mathbf{\\vec{y}} = \\left(y_{k}\\right)_{k = 1}^{n}$, for given $n$-tuples $\\left(x_{k}\\right)_{k = 1}^{n}$ and $\\left(y_{k}\\right)_{k = 1}^{n}$ in $\\mathbb{R}^n$, such that:\n",
    "$$\\forall (j, k) \\in [[1, n]]^2, \\enspace j \\neq k \\implies x_{j} \\neq x_{k}$$\n",
    "That is, all components of the Euclidean vector $\\mathbf{\\vec{x}}$ are distinct.\n",
    "- The *Lagrange basis for $\\mathbf{\\vec{x}}$ for polynomials of degree at most $n-1$* is the $n$-tuple of functions in $\\mathscr{F}\\left(\\mathbb{R}, \\mathbb{R}\\right)^{n}$ denoted by $\\left(\\ell_{k, \\mathbf{\\vec{x}}}\\right)_{k=1}^{n}$ and defined, for every natural number $k$ in $[[1,n]]$, by:\n",
    "$$\\begin{array}{c|ccc}\n",
    "\\ell_{k, \\mathbf{\\vec{x}}}\\colon   &   \\mathbb{R}  &   \\longrightarrow &   \\mathbb{R}  \\\\\n",
    "                                    &   x           &   \\longmapsto     &   \\displaystyle\\prod_{\\substack{j = 1 \\\\ j \\neq k}}^{n}\\dfrac{x-x_{j}}{x_{k}-x_{j}}\n",
    "\\end{array}$$\n",
    "- The *Lagrange polynomial for $\\mathbf{\\vec{x}}$ and $\\mathbf{\\vec{y}}$* is the function denoted by $\\mathcal{L}_{\\mathbf{\\vec{x}}, \\mathbf{\\vec{y}}}$ and defined by:\n",
    "$$\\begin{array}{c|ccc}\n",
    "\\mathcal{L}_{\\mathbf{\\vec{x}}, \\mathbf{\\vec{y}}}\\colon   &   \\mathbb{R}  &   \\longrightarrow &   \\mathbb{R}  \\\\\n",
    "                                    &   x           &   \\longmapsto     &   \\displaystyle\\sum_{k=1}^{n}y_{k}\\ell_{k}(x)\n",
    "\\end{array}$$\n",
    "Several remarks are in order:\n",
    "- The Lagrange polynomial $\\mathcal{L}_{\\mathbf{\\vec{x}}, \\mathbf{\\vec{y}}}$ is uniquely determined by $\\mathbf{\\vec{x}}$ and $\\mathbf{\\vec{y}}$, provided that all of the components of the Euclidean vector $\\mathbf{\\vec{x}}$ are distinct.\n",
    "- One has:\n",
    "$$\\forall k \\in [[1,n]], \\enspace \\mathcal{L}_{\\mathbf{\\vec{x}}, \\mathbf{\\vec{y}}}\\left(x_{k}\\right) = y_{k}$$\n",
    "- The components of the Euclidean vector $\\mathbf{\\vec{x}}$ are commonly called *nodes* and the components of the Euclidean vector $\\mathbf{\\vec{y}}$ are commonly called *values*.\n",
    "\n",
    "## **Python Implementation**\n",
    "The Python implementation for computing the Lagrange basis and the Lagrange polynomial is given in the code cell below."
   ]
  },
  {
   "cell_type": "code",
   "execution_count": 25,
   "metadata": {},
   "outputs": [],
   "source": [
    "def lagrange_basis_polynomial(nodes, k):\n",
    "    \"\"\"\n",
    "    Computes a Lagrange basis polynomial for a set of nodes at the specified ordinal number (using 1-based indexing)\n",
    "\n",
    "    Parameters\n",
    "    ----------\n",
    "    nodes : array-like\n",
    "        Either a list or a numpy array object containing all of the nodes\n",
    "    k : int\n",
    "        An integer indicating the 1-based index of the polynomial of the Lagrange basis for the nodes to be computed\n",
    "    \n",
    "    Returns\n",
    "    -------\n",
    "    function\n",
    "        A function equal to the Lagrange basis polynomial for the nodes at the specified 1-based index\n",
    "    \"\"\"\n",
    "    assert k in range(1, len(nodes) + 1)\n",
    "    X = np.array(nodes)\n",
    "    x_k = X[k - 1]\n",
    "    X = np.delete(X, k - 1)\n",
    "    return lambda x: np.prod((x - X) / ((x_k - X)))"
   ]
  },
  {
   "cell_type": "code",
   "execution_count": 37,
   "metadata": {},
   "outputs": [
    {
     "name": "stderr",
     "output_type": "stream",
     "text": [
      "C:\\Users\\Zakar\\AppData\\Local\\Packages\\PythonSoftwareFoundation.Python.3.10_qbz5n2kfra8p0\\LocalCache\\local-packages\\Python310\\site-packages\\seaborn\\_oldcore.py:1119: FutureWarning: use_inf_as_na option is deprecated and will be removed in a future version. Convert inf values to NaN before operating instead.\n",
      "  with pd.option_context('mode.use_inf_as_na', True):\n",
      "C:\\Users\\Zakar\\AppData\\Local\\Packages\\PythonSoftwareFoundation.Python.3.10_qbz5n2kfra8p0\\LocalCache\\local-packages\\Python310\\site-packages\\seaborn\\_oldcore.py:1119: FutureWarning: use_inf_as_na option is deprecated and will be removed in a future version. Convert inf values to NaN before operating instead.\n",
      "  with pd.option_context('mode.use_inf_as_na', True):\n"
     ]
    },
    {
     "data": {
      "text/plain": [
       "(array([ 1.        ,  1.09090909,  1.18181818,  1.27272727,  1.36363636,\n",
       "         1.45454545,  1.54545455,  1.63636364,  1.72727273,  1.81818182,\n",
       "         1.90909091,  2.        ,  2.09090909,  2.18181818,  2.27272727,\n",
       "         2.36363636,  2.45454545,  2.54545455,  2.63636364,  2.72727273,\n",
       "         2.81818182,  2.90909091,  3.        ,  3.09090909,  3.18181818,\n",
       "         3.27272727,  3.36363636,  3.45454545,  3.54545455,  3.63636364,\n",
       "         3.72727273,  3.81818182,  3.90909091,  4.        ,  4.09090909,\n",
       "         4.18181818,  4.27272727,  4.36363636,  4.45454545,  4.54545455,\n",
       "         4.63636364,  4.72727273,  4.81818182,  4.90909091,  5.        ,\n",
       "         5.09090909,  5.18181818,  5.27272727,  5.36363636,  5.45454545,\n",
       "         5.54545455,  5.63636364,  5.72727273,  5.81818182,  5.90909091,\n",
       "         6.        ,  6.09090909,  6.18181818,  6.27272727,  6.36363636,\n",
       "         6.45454545,  6.54545455,  6.63636364,  6.72727273,  6.81818182,\n",
       "         6.90909091,  7.        ,  7.09090909,  7.18181818,  7.27272727,\n",
       "         7.36363636,  7.45454545,  7.54545455,  7.63636364,  7.72727273,\n",
       "         7.81818182,  7.90909091,  8.        ,  8.09090909,  8.18181818,\n",
       "         8.27272727,  8.36363636,  8.45454545,  8.54545455,  8.63636364,\n",
       "         8.72727273,  8.81818182,  8.90909091,  9.        ,  9.09090909,\n",
       "         9.18181818,  9.27272727,  9.36363636,  9.45454545,  9.54545455,\n",
       "         9.63636364,  9.72727273,  9.81818182,  9.90909091, 10.        ]),\n",
       " array([-3.49568518e+00, -3.14861009e+00, -2.81847925e+00, -2.50492379e+00,\n",
       "        -2.20757480e+00, -1.92606342e+00, -1.66002073e+00, -1.40907787e+00,\n",
       "        -1.17286593e+00, -9.51016040e-01, -7.43159301e-01, -5.48926827e-01,\n",
       "        -3.67949730e-01, -1.99859124e-01, -4.42861181e-02,  9.91381739e-02,\n",
       "         2.30782641e-01,  3.51016170e-01,  4.60207650e-01,  5.58725969e-01,\n",
       "         6.46940015e-01,  7.25218676e-01,  7.93930840e-01,  8.53445395e-01,\n",
       "         9.04131229e-01,  9.46357230e-01,  9.80492287e-01,  1.00690529e+00,\n",
       "         1.02596512e+00,  1.03804067e+00,  1.04350083e+00,  1.04271448e+00,\n",
       "         1.03605052e+00,  1.02387783e+00,  1.00656529e+00,  9.84481811e-01,\n",
       "         9.57996263e-01,  9.27477539e-01,  8.93294527e-01,  8.55816115e-01,\n",
       "         8.15411191e-01,  7.72448644e-01,  7.27297360e-01,  6.80326229e-01,\n",
       "         6.31904138e-01,  5.82399975e-01,  5.32182629e-01,  4.81620987e-01,\n",
       "         4.31083938e-01,  3.80940369e-01,  3.31559169e-01,  2.83309226e-01,\n",
       "         2.36559428e-01,  1.91678662e-01,  1.49035817e-01,  1.08999781e-01,\n",
       "         7.19394425e-02,  3.82236888e-02,  8.22140816e-03, -1.76985113e-02,\n",
       "        -3.91671815e-02, -5.58157144e-02, -6.72752219e-02, -7.31768160e-02,\n",
       "        -7.31516087e-02, -6.68307118e-02, -5.38452373e-02, -3.38262972e-02,\n",
       "        -6.40500336e-03,  2.87875322e-02,  7.21201977e-02,  1.23961881e-01,\n",
       "         1.84681470e-01,  2.54647854e-01,  3.34229919e-01,  4.23796554e-01,\n",
       "         5.23716648e-01,  6.34359088e-01,  7.56092762e-01,  8.89286559e-01,\n",
       "         1.03430937e+00,  1.19153007e+00,  1.36131756e+00,  1.54404073e+00,\n",
       "         1.74006846e+00,  1.94976964e+00,  2.17351316e+00,  2.41166790e+00,\n",
       "         2.66460276e+00,  2.93268663e+00,  3.21628838e+00,  3.51577691e+00,\n",
       "         3.83152111e+00,  4.16388987e+00,  4.51325207e+00,  4.87997660e+00,\n",
       "         5.26443235e+00,  5.66698821e+00,  6.08801306e+00,  6.52787579e+00]))"
      ]
     },
     "execution_count": 37,
     "metadata": {},
     "output_type": "execute_result"
    },
    {
     "data": {
      "image/png": "[encoded data removed]",
      "text/plain": [
       "<Figure size 640x480 with 1 Axes>"
      ]
     },
     "metadata": {},
     "output_type": "display_data"
    }
   ],
   "source": [
    "g = np.vectorize(lagrange_basis_polynomial([2.3,4.12,6.3,7.2], 2))\n",
    "x = np.linspace(1, 10, 100)\n",
    "y = g(x)\n",
    "sns.lineplot(x = x, y = y)\n",
    "x, y"
   ]
  }
 ],
 "metadata": {
  "kernelspec": {
   "display_name": "Python 3",
   "language": "python",
   "name": "python3"
  },
  "language_info": {
   "codemirror_mode": {
    "name": "ipython",
    "version": 3
   },
   "file_extension": ".py",
   "mimetype": "text/x-python",
   "name": "python",
   "nbconvert_exporter": "python",
   "pygments_lexer": "ipython3",
   "version": "3.10.11"
  }
 },
 "nbformat": 4,
 "nbformat_minor": 2
}
