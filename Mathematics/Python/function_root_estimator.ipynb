{
 "cells": [
  {
   "cell_type": "markdown",
   "metadata": {},
   "source": [
    "# **Function Root Estimator**\n",
    "## **Contents**\n",
    "1. [Introduction](#Introduction)\n",
    "2. [The Newton-Raphson Method](#Brownian-Motion-Simulator)\n",
    "3. [The Secant Method](#Brownian-Motion-Parameter-Dependent-Simulator)\n",
    "4. [The Bisection Method](#Geometric-Brownian-Motion-Simulator)\n",
    "5. [Credits](#Credits)"
   ]
  },
  {
   "cell_type": "code",
   "execution_count": 209,
   "metadata": {},
   "outputs": [],
   "source": [
    "import numpy as np\n",
    "from time import time\n",
    "\n",
    "def performance_metrics(*args, method):\n",
    "    start = time()\n",
    "    x = method(*args)\n",
    "    end = time()\n",
    "    s = round(end - start, 3)\n",
    "    f = args[0]\n",
    "    n = args[-2]\n",
    "    d = args[-1]\n",
    "    print(f\"Function: {f}\", f\"Method: {method.__name__}\", f\"Result: {x}\", f\"Iteration limit: {n}\", f\"Precision: {d}\", f\"Computation time: {s} seconds.\", sep = \"\\n\")"
   ]
  },
  {
   "cell_type": "code",
   "execution_count": 213,
   "metadata": {},
   "outputs": [
    {
     "name": "stdout",
     "output_type": "stream",
     "text": [
      "Function: <function <lambda> at 0x00000215401F37F0>\n",
      "Method: newton_raphson\n",
      "Result: [[2.28365826e-03 4.56731652e-03 6.85097478e-03]\n",
      " [1.19094949e-08 9.52759591e-08 3.21556362e-07]]\n",
      "Iteration limit: 100\n",
      "Precision: 1e-06\n",
      "Computation time: 0.001 seconds.\n"
     ]
    }
   ],
   "source": [
    "def newton_raphson(f, df, x0, n = 100, d = 1e-6):\n",
    "    f = np.vectorize(f)\n",
    "    df = np.vectorize(df)\n",
    "    x0 = np.array(x0)\n",
    "    assert type(n) is int and n >= 1 and np.all(df(x0) != 0)\n",
    "    for _ in range(n):\n",
    "        x1 = np.subtract(x0, np.divide(f(x0), df(x0)))\n",
    "        if np.all(np.abs(f(x1)) < d):\n",
    "            break\n",
    "        else:\n",
    "            pass\n",
    "        x0 = x1\n",
    "    return np.array([x1, f(x1)])\n",
    "\n",
    "performance_metrics(lambda x: x**3, lambda x: 3 * x**2, [1, 2, 3], 100, 1e-6, method = newton_raphson)"
   ]
  },
  {
   "cell_type": "code",
   "execution_count": 214,
   "metadata": {},
   "outputs": [
    {
     "name": "stdout",
     "output_type": "stream",
     "text": [
      "Function: <function <lambda> at 0x000002154016B130>\n",
      "Method: secant\n",
      "Result: [[5.10209540e-03 9.16331840e-03]\n",
      " [1.32814572e-07 7.69410897e-07]]\n",
      "Iteration limit: 100\n",
      "Precision: 1e-06\n",
      "Computation time: 0.002 seconds.\n"
     ]
    }
   ],
   "source": [
    "def secant(f, x0, x1, n = 100, d = 1e-6):\n",
    "    f = np.vectorize(f)\n",
    "    x0 = np.array(x0)\n",
    "    x1 = np.array(x1)\n",
    "    assert type(n) is int and n >= 1 and np.all(f(x0) != f(x1))\n",
    "    for _ in range(n):\n",
    "        x2 = np.divide(np.subtract(np.multiply(x0, f(x1)), np.multiply(x1, f(x0))), np.subtract(f(x1), f(x0)))\n",
    "        if np.all(np.abs(f(x2)) < d):\n",
    "            break\n",
    "        else:\n",
    "            pass\n",
    "        x0 = x1\n",
    "        x1 = x2\n",
    "    return np.array([x2, f(x2)])\n",
    "\n",
    "performance_metrics(lambda x: x**3, [1,2], [3,4], 100, 1e-6, method = secant)"
   ]
  },
  {
   "cell_type": "code",
   "execution_count": 215,
   "metadata": {},
   "outputs": [
    {
     "name": "stdout",
     "output_type": "stream",
     "text": [
      "Function: <function <lambda> at 0x000002154016AA70>\n",
      "Method: bisection\n",
      "Result: [0. 0.]\n",
      "Iteration limit: 100\n",
      "Precision: 1e-06\n",
      "Computation time: 0.0 seconds.\n",
      "None\n"
     ]
    }
   ],
   "source": [
    "def bisection(f, a, b, n = 100, d = 1e-6):\n",
    "    f = np.vectorize(f)\n",
    "    a = np.array(a)\n",
    "    b = np.array(b)\n",
    "    assert type(n) is int and n >= 1 and np.all(a < b and f(a) * f(b) <= 0)\n",
    "    for _ in range(n):\n",
    "        c = np.divide(np.add(a, b), 2)\n",
    "        if np.all(np.abs(f(c)) < d):\n",
    "            break\n",
    "        elif np.any(f(c) < -d):\n",
    "            a = c\n",
    "        else:\n",
    "            b = c\n",
    "    return np.array([c, f(c)])\n",
    "\n",
    "print(performance_metrics(lambda x: x**3, -1, 1, 100, 1e-6, method = bisection))"
   ]
  }
 ],
 "metadata": {
  "kernelspec": {
   "display_name": "Python 3",
   "language": "python",
   "name": "python3"
  },
  "language_info": {
   "codemirror_mode": {
    "name": "ipython",
    "version": 3
   },
   "file_extension": ".py",
   "mimetype": "text/x-python",
   "name": "python",
   "nbconvert_exporter": "python",
   "pygments_lexer": "ipython3",
   "version": "3.10.11"
  }
 },
 "nbformat": 4,
 "nbformat_minor": 2
}
