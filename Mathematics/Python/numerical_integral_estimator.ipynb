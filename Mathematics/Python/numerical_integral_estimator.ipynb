{
 "cells": [
  {
   "cell_type": "markdown",
   "metadata": {},
   "source": [
    "# **Numerical Integral Estimator**\n",
    "\n",
    "## **Contents**\n",
    "- [Introduction](#Introduction)\n",
    "- [The Midpoint Rule](#The-Midpoint-Rule)\n",
    "- [The Trapezoidal Rule](#The-Trapezoidal-Rule)\n",
    "- [Simpson's Rule](#Simpson's-Rule)\n",
    "- [Credits](#Credits)\n",
    "\n",
    "\n",
    "## **Introduction**"
   ]
  },
  {
   "cell_type": "markdown",
   "metadata": {},
   "source": [
    "This project aims to implement standard numerical techniques for computing definite integrals in Python. In particular, the midpoint, trapezoidal and Simpson's rules, as well as the Monte Carlo method from standard continuous uniform random variables are implemented using the `numpy` library. A random seed value will be set for reproducibiity. The `time` library is also imported in order to display the computation time of each implementation, as well as the number of iterations per second excuted. In what follows, the following integral will be approximated as an example:\n",
    "$$\\int_{-100}^{100}e^{-x^2}\\mathrm{d}x$$\n",
    "which, up to nine decimal places, satisfies:\n",
    "$$\\int_{-100}^{100}e^{-x^2}\\mathrm{d}x \\approx \\int_{-\\infty}^{+\\infty}e^{-x^2}\\mathrm{d}x = \\sqrt{\\pi} \\approx 1.772453851$$"
   ]
  },
  {
   "cell_type": "code",
   "execution_count": 1,
   "metadata": {},
   "outputs": [
    {
     "name": "stderr",
     "output_type": "stream",
     "text": [
      "C:\\Users\\Zakar\\AppData\\Local\\Packages\\PythonSoftwareFoundation.Python.3.10_qbz5n2kfra8p0\\LocalCache\\local-packages\\Python310\\site-packages\\cupy\\_environment.py:216: UserWarning: CUDA path could not be detected. Set CUDA_PATH environment variable if CuPy fails to load.\n",
      "  warnings.warn(\n"
     ]
    },
    {
     "ename": "ImportError",
     "evalue": "\n================================================================\nFailed to import CuPy.\n\nIf you installed CuPy via wheels (cupy-cudaXXX or cupy-rocm-X-X), make sure that the package matches with the version of CUDA or ROCm installed.\n\nOn Linux, you may need to set LD_LIBRARY_PATH environment variable depending on how you installed CUDA/ROCm.\nOn Windows, try setting CUDA_PATH environment variable.\n\nCheck the Installation Guide for details:\n  https://docs.cupy.dev/en/latest/install.html\n\nCUDA Path: None\nDLL dependencies:\n  KERNEL32.dll -> C:\\WINDOWS\\System32\\KERNEL32.DLL\n  MSVCP140.dll -> C:\\Users\\Zakar\\AppData\\Local\\Packages\\PythonSoftwareFoundation.Python.3.10_qbz5n2kfra8p0\\LocalCache\\local-packages\\Python310\\site-packages\\pyzmq.libs\\MSVCP140.dll\n  VCRUNTIME140.dll -> C:\\Program Files\\WindowsApps\\PythonSoftwareFoundation.Python.3.10_3.10.3056.0_x64__qbz5n2kfra8p0\\VCRUNTIME140.dll\n  api-ms-win-crt-convert-l1-1-0.dll -> C:\\WINDOWS\\System32\\ucrtbase.dll\n  api-ms-win-crt-environment-l1-1-0.dll -> C:\\WINDOWS\\System32\\ucrtbase.dll\n  api-ms-win-crt-filesystem-l1-1-0.dll -> C:\\WINDOWS\\System32\\ucrtbase.dll\n  api-ms-win-crt-heap-l1-1-0.dll -> C:\\WINDOWS\\System32\\ucrtbase.dll\n  api-ms-win-crt-runtime-l1-1-0.dll -> C:\\WINDOWS\\System32\\ucrtbase.dll\n  api-ms-win-crt-stdio-l1-1-0.dll -> C:\\WINDOWS\\System32\\ucrtbase.dll\n  api-ms-win-crt-string-l1-1-0.dll -> C:\\WINDOWS\\System32\\ucrtbase.dll\n  api-ms-win-crt-time-l1-1-0.dll -> C:\\WINDOWS\\System32\\ucrtbase.dll\n  cuTENSOR.dll -> not found\n  cublas64_12.dll -> not found\n  cudnn64_8.dll -> not found\n  cufft64_11.dll -> not found\n  curand64_10.dll -> not found\n  cusolver64_11.dll -> not found\n  cusparse64_12.dll -> not found\n  nvrtc64_120_0.dll -> not found\n  python310.dll -> C:\\Program Files\\WindowsApps\\PythonSoftwareFoundation.Python.3.10_3.10.3056.0_x64__qbz5n2kfra8p0\\python310.dll\n\nOriginal error:\n  ModuleNotFoundError: No module named 'cupy.cuda'\n================================================================\n",
     "output_type": "error",
     "traceback": [
      "\u001b[1;31m---------------------------------------------------------------------------\u001b[0m",
      "\u001b[1;31mModuleNotFoundError\u001b[0m                       Traceback (most recent call last)",
      "File \u001b[1;32m~\\AppData\\Local\\Packages\\PythonSoftwareFoundation.Python.3.10_qbz5n2kfra8p0\\LocalCache\\local-packages\\Python310\\site-packages\\cupy\\__init__.py:17\u001b[0m\n\u001b[0;32m     16\u001b[0m \u001b[38;5;28;01mtry\u001b[39;00m:\n\u001b[1;32m---> 17\u001b[0m     \u001b[38;5;28;01mfrom\u001b[39;00m \u001b[38;5;21;01mcupy\u001b[39;00m \u001b[38;5;28;01mimport\u001b[39;00m _core  \u001b[38;5;66;03m# NOQA\u001b[39;00m\n\u001b[0;32m     18\u001b[0m \u001b[38;5;28;01mexcept\u001b[39;00m \u001b[38;5;167;01mImportError\u001b[39;00m \u001b[38;5;28;01mas\u001b[39;00m exc:\n",
      "File \u001b[1;32m~\\AppData\\Local\\Packages\\PythonSoftwareFoundation.Python.3.10_qbz5n2kfra8p0\\LocalCache\\local-packages\\Python310\\site-packages\\cupy\\_core\\__init__.py:3\u001b[0m\n\u001b[0;32m      1\u001b[0m \u001b[38;5;66;03m# mypy: ignore-errors\u001b[39;00m\n\u001b[1;32m----> 3\u001b[0m \u001b[38;5;28;01mfrom\u001b[39;00m \u001b[38;5;21;01mcupy\u001b[39;00m\u001b[38;5;21;01m.\u001b[39;00m\u001b[38;5;21;01m_core\u001b[39;00m \u001b[38;5;28;01mimport\u001b[39;00m core  \u001b[38;5;66;03m# NOQA\u001b[39;00m\n\u001b[0;32m      4\u001b[0m \u001b[38;5;28;01mfrom\u001b[39;00m \u001b[38;5;21;01mcupy\u001b[39;00m\u001b[38;5;21;01m.\u001b[39;00m\u001b[38;5;21;01m_core\u001b[39;00m \u001b[38;5;28;01mimport\u001b[39;00m fusion  \u001b[38;5;66;03m# NOQA\u001b[39;00m\n",
      "File \u001b[1;32mcupy\\_core\\core.pyx:1\u001b[0m, in \u001b[0;36minit cupy._core.core\u001b[1;34m()\u001b[0m\n",
      "\u001b[1;31mModuleNotFoundError\u001b[0m: No module named 'cupy.cuda'",
      "\nThe above exception was the direct cause of the following exception:\n",
      "\u001b[1;31mImportError\u001b[0m                               Traceback (most recent call last)",
      "Cell \u001b[1;32mIn [1], line 2\u001b[0m\n\u001b[0;32m      1\u001b[0m \u001b[38;5;28;01mimport\u001b[39;00m \u001b[38;5;21;01mnumpy\u001b[39;00m \u001b[38;5;28;01mas\u001b[39;00m \u001b[38;5;21;01mnp\u001b[39;00m\n\u001b[1;32m----> 2\u001b[0m \u001b[38;5;28;01mimport\u001b[39;00m \u001b[38;5;21;01mcupy\u001b[39;00m \u001b[38;5;28;01mas\u001b[39;00m \u001b[38;5;21;01mcp\u001b[39;00m\n\u001b[0;32m      3\u001b[0m \u001b[38;5;28;01mfrom\u001b[39;00m \u001b[38;5;21;01mtime\u001b[39;00m \u001b[38;5;28;01mimport\u001b[39;00m time\n\u001b[0;32m      5\u001b[0m np\u001b[38;5;241m.\u001b[39mrandom\u001b[38;5;241m.\u001b[39mseed(\u001b[38;5;241m30\u001b[39m)\n",
      "File \u001b[1;32m~\\AppData\\Local\\Packages\\PythonSoftwareFoundation.Python.3.10_qbz5n2kfra8p0\\LocalCache\\local-packages\\Python310\\site-packages\\cupy\\__init__.py:19\u001b[0m\n\u001b[0;32m     17\u001b[0m     \u001b[38;5;28;01mfrom\u001b[39;00m \u001b[38;5;21;01mcupy\u001b[39;00m \u001b[38;5;28;01mimport\u001b[39;00m _core  \u001b[38;5;66;03m# NOQA\u001b[39;00m\n\u001b[0;32m     18\u001b[0m \u001b[38;5;28;01mexcept\u001b[39;00m \u001b[38;5;167;01mImportError\u001b[39;00m \u001b[38;5;28;01mas\u001b[39;00m exc:\n\u001b[1;32m---> 19\u001b[0m     \u001b[38;5;28;01mraise\u001b[39;00m \u001b[38;5;167;01mImportError\u001b[39;00m(\u001b[38;5;124mf\u001b[39m\u001b[38;5;124m'''\u001b[39m\n\u001b[0;32m     20\u001b[0m \u001b[38;5;124m================================================================\u001b[39m\n\u001b[0;32m     21\u001b[0m \u001b[38;5;132;01m{\u001b[39;00m_environment\u001b[38;5;241m.\u001b[39m_diagnose_import_error()\u001b[38;5;132;01m}\u001b[39;00m\n\u001b[0;32m     22\u001b[0m \n\u001b[0;32m     23\u001b[0m \u001b[38;5;124mOriginal error:\u001b[39m\n\u001b[0;32m     24\u001b[0m \u001b[38;5;124m  \u001b[39m\u001b[38;5;132;01m{\u001b[39;00m\u001b[38;5;28mtype\u001b[39m(exc)\u001b[38;5;241m.\u001b[39m\u001b[38;5;18m__name__\u001b[39m\u001b[38;5;132;01m}\u001b[39;00m\u001b[38;5;124m: \u001b[39m\u001b[38;5;132;01m{\u001b[39;00mexc\u001b[38;5;132;01m}\u001b[39;00m\n\u001b[0;32m     25\u001b[0m \u001b[38;5;124m================================================================\u001b[39m\n\u001b[0;32m     26\u001b[0m \u001b[38;5;124m'''\u001b[39m) \u001b[38;5;28;01mfrom\u001b[39;00m \u001b[38;5;21;01mexc\u001b[39;00m\n\u001b[0;32m     29\u001b[0m \u001b[38;5;28;01mfrom\u001b[39;00m \u001b[38;5;21;01mcupy\u001b[39;00m \u001b[38;5;28;01mimport\u001b[39;00m cuda  \u001b[38;5;66;03m# NOQA\u001b[39;00m\n\u001b[0;32m     30\u001b[0m \u001b[38;5;66;03m# Do not make `cupy.cupyx` available because it is confusing.\u001b[39;00m\n",
      "\u001b[1;31mImportError\u001b[0m: \n================================================================\nFailed to import CuPy.\n\nIf you installed CuPy via wheels (cupy-cudaXXX or cupy-rocm-X-X), make sure that the package matches with the version of CUDA or ROCm installed.\n\nOn Linux, you may need to set LD_LIBRARY_PATH environment variable depending on how you installed CUDA/ROCm.\nOn Windows, try setting CUDA_PATH environment variable.\n\nCheck the Installation Guide for details:\n  https://docs.cupy.dev/en/latest/install.html\n\nCUDA Path: None\nDLL dependencies:\n  KERNEL32.dll -> C:\\WINDOWS\\System32\\KERNEL32.DLL\n  MSVCP140.dll -> C:\\Users\\Zakar\\AppData\\Local\\Packages\\PythonSoftwareFoundation.Python.3.10_qbz5n2kfra8p0\\LocalCache\\local-packages\\Python310\\site-packages\\pyzmq.libs\\MSVCP140.dll\n  VCRUNTIME140.dll -> C:\\Program Files\\WindowsApps\\PythonSoftwareFoundation.Python.3.10_3.10.3056.0_x64__qbz5n2kfra8p0\\VCRUNTIME140.dll\n  api-ms-win-crt-convert-l1-1-0.dll -> C:\\WINDOWS\\System32\\ucrtbase.dll\n  api-ms-win-crt-environment-l1-1-0.dll -> C:\\WINDOWS\\System32\\ucrtbase.dll\n  api-ms-win-crt-filesystem-l1-1-0.dll -> C:\\WINDOWS\\System32\\ucrtbase.dll\n  api-ms-win-crt-heap-l1-1-0.dll -> C:\\WINDOWS\\System32\\ucrtbase.dll\n  api-ms-win-crt-runtime-l1-1-0.dll -> C:\\WINDOWS\\System32\\ucrtbase.dll\n  api-ms-win-crt-stdio-l1-1-0.dll -> C:\\WINDOWS\\System32\\ucrtbase.dll\n  api-ms-win-crt-string-l1-1-0.dll -> C:\\WINDOWS\\System32\\ucrtbase.dll\n  api-ms-win-crt-time-l1-1-0.dll -> C:\\WINDOWS\\System32\\ucrtbase.dll\n  cuTENSOR.dll -> not found\n  cublas64_12.dll -> not found\n  cudnn64_8.dll -> not found\n  cufft64_11.dll -> not found\n  curand64_10.dll -> not found\n  cusolver64_11.dll -> not found\n  cusparse64_12.dll -> not found\n  nvrtc64_120_0.dll -> not found\n  python310.dll -> C:\\Program Files\\WindowsApps\\PythonSoftwareFoundation.Python.3.10_3.10.3056.0_x64__qbz5n2kfra8p0\\python310.dll\n\nOriginal error:\n  ModuleNotFoundError: No module named 'cupy.cuda'\n================================================================\n"
     ]
    }
   ],
   "source": [
    "import numpy as np\n",
    "from time import time\n",
    "\n",
    "np.random.seed(30)\n",
    "\n",
    "def f(x):\n",
    "    assert -np.inf < x < np.inf\n",
    "    return np.exp(- x ** 2)\n",
    "a = -100\n",
    "b = 100\n",
    "definition = 'f(x) = e^(-x^2)'\n",
    "n = 1000000\n",
    "\n",
    "def performance_metrics(f, a, b, definition, n, method):\n",
    "    start = time()\n",
    "    I = method(f, a, b, n)\n",
    "    end = time()\n",
    "    s = round(end - start, 3)\n",
    "    print(f\"Function: {f.__name__}\", f\"Domain: [{a},{b}]\", f\"Definition: {definition}\", f\"Method: {method.__name__}\", f\"Value: {round(I, 9)}\", f\"Number of iterations: {n}\", f\"Computation time: {s} seconds.\", f\"Iterations per second: {int(n / s)}\", sep = \"\\n\")\n",
    "    print(\"\\n\")"
   ]
  },
  {
   "cell_type": "markdown",
   "metadata": {},
   "source": [
    "## **The Midpoint Rule**\n",
    "Let $(a,b)$ be an ordered pair of real numbers in $\\mathbb{R}^2$ such that $a < b$, let $f$ be a continuous function in $\\mathscr{C}\\left([a,b],\\mathbb{R}\\right)$ and let $n$ be a non-zero natural number in $\\mathbb{N}^{*}$. The *midpoint rule approximation of $\\int_{a}^{b}f(x)\\mathrm{d}x$ of order $n$* is the real number denoted by $\\mathrm{M}_{n, [a,b]}(f)$ and defined by\n",
    "$$\\mathrm{M}_{n, [a,b]}(f) = \\frac{b - a}{n}\\sum_{k=1}^{n}f\\left(a + \\frac{(b-a)(2k-1)}{2n}\\right)$$\n",
    "It can be proven that:\n",
    "$$\\lim_{n \\to +\\infty}\\left(\\mathrm{M}_{n, [a,b]}(f)\\right) = \\int_{a}^{b}f(x)\\mathrm{d}x$$\n",
    "although the proof is omitted. The Python implementation of the midpoint rule is given in the code cell below, alongside the calculated value and computation time."
   ]
  },
  {
   "cell_type": "code",
   "execution_count": 174,
   "metadata": {},
   "outputs": [
    {
     "name": "stdout",
     "output_type": "stream",
     "text": [
      "Function: f\n",
      "Domain: [-100,100]\n",
      "Definition: f(x) = e^(-x^2)\n",
      "Method: Midpoint Rule\n",
      "Value: 1.772453851\n",
      "Number of iterations: 1000000\n",
      "Computation time: 1.076 seconds.\n",
      "Iterations per second: 929368\n",
      "\n",
      "\n"
     ]
    }
   ],
   "source": [
    "def midpoint_rule(f, a, b, n):\n",
    "    assert a < b and type(n) is int\n",
    "    f = np.vectorize(f)\n",
    "    dx = (b - a) / n\n",
    "    P = np.linspace(a, b, n + 1)\n",
    "    S = (P + np.diff(P)[0] / 2)[:-1]\n",
    "    return dx * np.sum(f(S))\n",
    "\n",
    "midpoint_rule.__name__ = \"Midpoint Rule\"\n",
    "\n",
    "performance_metrics(f, a, b, definition, n, midpoint_rule)"
   ]
  },
  {
   "cell_type": "markdown",
   "metadata": {},
   "source": [
    "## **The Trapezoidal Rule**\n",
    "Let $(a,b)$ be an ordered pair of real numbers in $\\mathbb{R}^2$ such that $a < b$, let $f$ be a continuous function in $\\mathscr{C}\\left([a,b],\\mathbb{R}\\right)$ and let $n$ be a non-zero natural number in $\\mathbb{N}^{*}$. The *trapezoidal rule approximation of $\\int_{a}^{b}f(x)\\mathrm{d}x$ of order $n$* is the real number denoted by $\\mathrm{T}_{n, [a,b]}(f)$ and defined by\n",
    "$$\\mathrm{T}_{n, [a,b]}(f) = \\frac{b-a}{2n}\\left(f(a)+2\\sum_{k=1}^{n-1}f\\left(a+\\frac{(b-a)k}{n}\\right)+f(b)\\right)$$\n",
    "It can be proven that:\n",
    "$$\\lim_{n \\to +\\infty}\\left(\\mathrm{T}_{n, [a,b]}(f)\\right) = \\int_{a}^{b}f(x)\\mathrm{d}x$$\n",
    "although the proof is omitted. The Python implementation of the trapezoidal rule is given in the code cell below, alongside the calculated value and computation time."
   ]
  },
  {
   "cell_type": "code",
   "execution_count": 175,
   "metadata": {},
   "outputs": [
    {
     "name": "stdout",
     "output_type": "stream",
     "text": [
      "Function: f\n",
      "Domain: [-100,100]\n",
      "Definition: f(x) = e^(-x^2)\n",
      "Method: Trapezoidal Rule\n",
      "Value: 1.772453851\n",
      "Number of iterations: 1000000\n",
      "Computation time: 1.066 seconds.\n",
      "Iterations per second: 938086\n",
      "\n",
      "\n"
     ]
    }
   ],
   "source": [
    "def trapezoidal_rule(f, a, b, n):\n",
    "    assert a < b and type(n) is int\n",
    "    f = np.vectorize(f)\n",
    "    dx = (b - a) / n\n",
    "    P = np.linspace(a, b, n + 1)\n",
    "    F = f(P)\n",
    "    return (dx / 2) * np.sum(np.concatenate(([F[0]], 2 * F[1:-1], [F[-1]])))\n",
    "\n",
    "trapezoidal_rule.__name__ = \"Trapezoidal Rule\"\n",
    "\n",
    "performance_metrics(f, a, b, definition, n, trapezoidal_rule)"
   ]
  },
  {
   "cell_type": "markdown",
   "metadata": {},
   "source": [
    "## **Simpson's Rule**\n",
    "Let $(a,b)$ be an ordered pair of real numbers in $\\mathbb{R}^2$ such that $a < b$, let $f$ be a continuous function in $\\mathscr{C}\\left([a,b],\\mathbb{R}\\right)$ and let $n$ be a non-zero natural number in $\\mathbb{N}^{*}$. The *Simpson's rule approximation of $\\int_{a}^{b}f(x)\\mathrm{d}x$ of order $n$* is the real number denoted by $\\mathrm{S}_{n, [a,b]}(f)$ and defined by\n",
    "$$\\mathrm{S}_{n, [a,b]}(f) = \\frac{b-a}{3n}\\left(f(a)+4\\sum_{k=1}^{\\lfloor n/2\\rfloor}f\\left(a + \\frac{(b-a)(2k-1)}{n}\\right)+2\\sum_{k=1}^{\\lfloor n/2\\rfloor - 1}f\\left(a + \\frac{2(b-a)k}{n}\\right)+f(b)\\right)$$\n",
    "It can be proven that:\n",
    "$$\\lim_{n \\to +\\infty}\\left(\\mathrm{S}_{n, [a,b]}(f)\\right) = \\int_{a}^{b}f(x)\\mathrm{d}x$$\n",
    "although the proof is omitted. The Python implementation of Simpson's rule is given in the code cell below, alongside the calculated value and computation time."
   ]
  },
  {
   "cell_type": "code",
   "execution_count": 176,
   "metadata": {},
   "outputs": [
    {
     "name": "stdout",
     "output_type": "stream",
     "text": [
      "Function: f\n",
      "Domain: [-100,100]\n",
      "Definition: f(x) = e^(-x^2)\n",
      "Method: Simpson's Rule\n",
      "Value: 1.772453851\n",
      "Number of iterations: 1000000\n",
      "Computation time: 1.131 seconds.\n",
      "Iterations per second: 884173\n",
      "\n",
      "\n"
     ]
    }
   ],
   "source": [
    "def simpsons_rule(f, a, b, n):\n",
    "    assert a < b and type(n) is int\n",
    "    f = np.vectorize(f)\n",
    "    dx = (b - a) / n\n",
    "    P = np.linspace(a, b, n + 1)\n",
    "    F = f(P)\n",
    "    return (dx / 3) * np.sum(np.concatenate(([F[0]], 4 * F[1:n:2], 2 * F[2:n-1:2], [F[-1]])))\n",
    "\n",
    "simpsons_rule.__name__ = \"Simpson's Rule\"\n",
    "\n",
    "performance_metrics(f, a, b, definition, n, simpsons_rule)"
   ]
  },
  {
   "cell_type": "markdown",
   "metadata": {},
   "source": [
    "## **Monte Carlo Method**\n",
    "Let $(a,b)$ be an ordered pair of real numbers in $\\mathbb{R}^2$ such that $a < b$, let $f$ be a continuous function in $\\mathscr{C}\\left([a,b],\\mathbb{R}\\right)$ and let $n$ be a non-zero natural number in $\\mathbb{N}^{*}$ and let $U$ be a standard continuous uniform random variable, that is, a random variable such that $U \\hookrightarrow \\mathsf{ContinuousUniform}\\left(0, 1\\right)$. Then one has:\n",
    "$$\\mathbb{E}\\left((b - a)f\\left(a + (b - a)U\\right)\\right) = \\int_{a}^{b}f(x)\\mathrm{d}x$$\n",
    "Thus, it follows by $\\left(\\mathscr{B}([a,b]),\\mathscr{B}(\\mathbb{R})\\right)$-measurability (i.e., Borel measurability) of $f$ (which itself follows from continuity of $f$) and from the strong law of large numbers that, if $(U_{n})_{n \\in \\mathbb{N}}$ is an independent and identically distributed sequence of standard continuous uniform random variables, then $\\left((b-a)f\\left(a + (b-a)U_{n}\\right)\\right)_{n \\in \\mathbb{N}}$ is an independent and identically distributed sequence of random variables satisfying:\n",
    "$$\\frac{(b-a)\\sum_{k=0}^{n}f\\left(a + (b - a)U_{k}\\right)}{n+1} \\xrightarrow[n \\to +\\infty]{\\mathbb{P}\\text{-a.s.}} \\mathbb{E}\\left((b - a)f\\left(a + (b - a)U\\right)\\right) = \\int_{a}^{b}f(x)\\mathrm{d}x$$\n",
    "whereupon:\n",
    "$$\\frac{(b-a)\\sum_{k=0}^{n}f\\left(a + (b - a)U_{k}\\right)}{n+1} \\xrightarrow[n \\to +\\infty]{\\mathbb{P}\\text{-a.s.}} \\int_{a}^{b}f(x)\\mathrm{d}x$$"
   ]
  },
  {
   "cell_type": "code",
   "execution_count": 177,
   "metadata": {},
   "outputs": [
    {
     "name": "stdout",
     "output_type": "stream",
     "text": [
      "Function: f\n",
      "Domain: [-100,100]\n",
      "Definition: f(x) = e^(-x^2)\n",
      "Method: Monte Carlo Method\n",
      "Value: 1.783037462\n",
      "Number of iterations: 1000000\n",
      "Computation time: 1.066 seconds.\n",
      "Iterations per second: 938086\n",
      "\n",
      "\n"
     ]
    }
   ],
   "source": [
    "def monte_carlo_integral(f, a, b, n):\n",
    "    assert a < b and type(n) is int\n",
    "    f = np.vectorize(f)\n",
    "    U = np.random.uniform(0, 1, n)\n",
    "    X = a + (b - a) * U\n",
    "    return (b - a) * np.mean(f(X))\n",
    "\n",
    "monte_carlo_integral.__name__ = \"Monte Carlo Method\"\n",
    "\n",
    "performance_metrics(f, a, b, definition, n, monte_carlo_integral)"
   ]
  },
  {
   "cell_type": "markdown",
   "metadata": {},
   "source": [
    "## **Credits**\n",
    "- “[Numerical Integration - Midpoint, Trapezoid, Simpson’s Rule](https://math.libretexts.org/@go/page/10269).” 2021. July 25, 2021.\n",
    "- Wikipedia contributors, \"[Numerical integration](https://en.wikipedia.org/w/index.php?title=Numerical_integration&oldid=1188650985),\" Wikipedia, The Free Encyclopedia (accessed February 15, 2024)\n",
    "- Wikipedia contributors, \"[Riemann sum](https://en.wikipedia.org/w/index.php?title=Riemann_sum&oldid=1198175653),\" Wikipedia, The Free Encyclopedia (accessed February 16, 2024).\n",
    "- Wikipedia contributors, \"[Trapezoidal rule](https://en.wikipedia.org/w/index.php?title=Trapezoidal_rule&oldid=1181282452),\" Wikipedia, The Free Encyclopedia (accessed February 16, 2024).\n",
    "- Wikipedia contributors, \"[Simpson's rule](https://en.wikipedia.org/w/index.php?title=Simpson%27s_rule&oldid=1203533339),\" Wikipedia, The Free Encyclopedia (accessed February 16, 2024).\n",
    "- Wikipedia contributors, \"[Monte Carlo integration](https://en.wikipedia.org/w/index.php?title=Monte_Carlo_integration&oldid=1188150594),\" Wikipedia, The Free Encyclopedia (accessed February 16, 2024).\n",
    "- The original code is provided as-is in this project by Zakaria Zerrouki."
   ]
  }
 ],
 "metadata": {
  "kernelspec": {
   "display_name": "Python 3",
   "language": "python",
   "name": "python3"
  },
  "language_info": {
   "codemirror_mode": {
    "name": "ipython",
    "version": 3
   },
   "file_extension": ".py",
   "mimetype": "text/x-python",
   "name": "python",
   "nbconvert_exporter": "python",
   "pygments_lexer": "ipython3",
   "version": "3.10.11"
  }
 },
 "nbformat": 4,
 "nbformat_minor": 2
}
