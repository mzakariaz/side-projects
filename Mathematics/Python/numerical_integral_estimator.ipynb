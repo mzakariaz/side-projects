{
 "cells": [
  {
   "cell_type": "markdown",
   "metadata": {},
   "source": [
    "# **Numerical Integral Estimator**\n",
    "\n",
    "## **Contents**\n",
    "- [Introduction](#Introduction)\n",
    "- [The Midpoint Rule](#The-Midpoint-Rule)\n",
    "- [The Trapezoidal Rule](#The-Trapezoidal-Rule)\n",
    "- [Simpson's Rule](#Simpson's-Rule)\n",
    "- [Credits](#Credits)\n",
    "\n",
    "\n",
    "## **Introduction**"
   ]
  },
  {
   "cell_type": "markdown",
   "metadata": {},
   "source": [
    "This project aims to implement standard numerical techniques for computing definite integrals in Python. In particular, the midpoint, trapezoidal and Simpson's rules, as well as the Monte Carlo method from standard continuous uniform random variables are implemented using the `numpy` library. A random seed value will be set for reproducibiity. The `time` library is also imported in order to display the computation time of each implementation, as well as the number of iterations per second excuted. In what follows, the following integral will be approximated as an example:\n",
    "$$\\int_{-100}^{100}e^{-x^2}\\mathrm{d}x$$\n",
    "which, up to nine decimal places, satisfies:\n",
    "$$\\int_{-100}^{100}e^{-x^2}\\mathrm{d}x \\approx \\int_{-\\infty}^{+\\infty}e^{-x^2}\\mathrm{d}x = \\sqrt{\\pi} \\approx 1.772453851$$"
   ]
  },
  {
   "cell_type": "code",
   "execution_count": 6,
   "metadata": {},
   "outputs": [],
   "source": [
    "import numpy as np\n",
    "from time import time\n",
    "\n",
    "np.random.seed(30)\n",
    "\n",
    "def f(x):\n",
    "    assert -np.inf < x < np.inf\n",
    "    return np.exp(- x ** 2)\n",
    "a = -100\n",
    "b = 100\n",
    "definition = 'f(x) = e^(-x^2)'\n",
    "n = 1000000\n",
    "\n",
    "def performance_metrics(f, a, b, definition, n, method):\n",
    "    start = time()\n",
    "    I = method(f, a, b, n)\n",
    "    end = time()\n",
    "    s = round(end - start, 3)\n",
    "    print(f\"Function: {f.__name__}\", f\"Domain: [{a},{b}]\", f\"Definition: {definition}\", f\"Method: {method.__name__}\", f\"Value: {round(I, 9)}\", f\"Number of iterations: {n}\", f\"Computation time: {s} seconds.\", f\"Iterations per second: {int(n / s)}\", sep = \"\\n\")"
   ]
  },
  {
   "cell_type": "markdown",
   "metadata": {},
   "source": [
    "## **The Midpoint Rule**\n",
    "Let $(a,b)$ be an ordered pair of real numbers in $\\mathbb{R}^2$ such that $a < b$, let $f$ be a continuous function in $\\mathscr{C}\\left([a,b],\\mathbb{R}\\right)$ and let $n$ be a non-zero natural number in $\\mathbb{N}^{*}$. The *midpoint rule approximation of $\\int_{a}^{b}f(x)\\mathrm{d}x$ of order $n$* is the real number denoted by $\\mathrm{M}_{n, [a,b]}(f)$ and defined by\n",
    "$$\\mathrm{M}_{n, [a,b]}(f) = \\frac{b - a}{n}\\sum_{k=1}^{n}f\\left(a + \\frac{(b-a)(2k-1)}{2n}\\right)$$\n",
    "It can be proven that:\n",
    "$$\\lim_{n \\to +\\infty}\\left(\\mathrm{M}_{n, [a,b]}(f)\\right) = \\int_{a}^{b}f(x)\\mathrm{d}x$$\n",
    "although the proof is omitted. The Python implementation of the midpoint rule is given in the code cell below, alongside the calculated value and computation time."
   ]
  },
  {
   "cell_type": "code",
   "execution_count": 7,
   "metadata": {},
   "outputs": [
    {
     "name": "stdout",
     "output_type": "stream",
     "text": [
      "Function: f\n",
      "Domain: [-100,100]\n",
      "Definition: f(x) = e^(-x^2)\n",
      "Method: Midpoint Rule\n",
      "Value: 1.772453851\n",
      "Number of iterations: 1000000\n",
      "Computation time: 2.358 seconds.\n",
      "Iterations per second: 424088\n"
     ]
    }
   ],
   "source": [
    "def midpoint_rule(f, a, b, n):\n",
    "    assert a < b and type(n) is int\n",
    "    f = np.vectorize(f)\n",
    "    dx = (b - a) / n\n",
    "    P = np.linspace(a, b, n + 1)\n",
    "    S = (P + np.diff(P)[0] / 2)[:-1]\n",
    "    return dx * np.sum(f(S))\n",
    "\n",
    "midpoint_rule.__name__ = \"Midpoint Rule\"\n",
    "\n",
    "performance_metrics(f, a, b, definition, n, midpoint_rule)"
   ]
  },
  {
   "cell_type": "markdown",
   "metadata": {},
   "source": [
    "## **The Trapezoidal Rule**\n",
    "Let $(a,b)$ be an ordered pair of real numbers in $\\mathbb{R}^2$ such that $a < b$, let $f$ be a continuous function in $\\mathscr{C}\\left([a,b],\\mathbb{R}\\right)$ and let $n$ be a non-zero natural number in $\\mathbb{N}^{*}$. The *trapezoidal rule approximation of $\\int_{a}^{b}f(x)\\mathrm{d}x$ of order $n$* is the real number denoted by $\\mathrm{T}_{n, [a,b]}(f)$ and defined by\n",
    "$$\\mathrm{T}_{n, [a,b]}(f) = \\frac{b-a}{2n}\\left(f(a)+2\\sum_{k=1}^{n-1}f\\left(a+\\frac{(b-a)k}{n}\\right)+f(b)\\right)$$\n",
    "It can be proven that:\n",
    "$$\\lim_{n \\to +\\infty}\\left(\\mathrm{T}_{n, [a,b]}(f)\\right) = \\int_{a}^{b}f(x)\\mathrm{d}x$$\n",
    "although the proof is omitted. The Python implementation of the trapezoidal rule is given in the code cell below, alongside the calculated value and computation time."
   ]
  },
  {
   "cell_type": "code",
   "execution_count": 8,
   "metadata": {},
   "outputs": [
    {
     "name": "stdout",
     "output_type": "stream",
     "text": [
      "Function: f\n",
      "Domain: [-100,100]\n",
      "Definition: f(x) = e^(-x^2)\n",
      "Method: Trapezoidal Rule\n",
      "Value: 1.772453851\n",
      "Number of iterations: 1000000\n",
      "Computation time: 2.877 seconds.\n",
      "Iterations per second: 347584\n"
     ]
    }
   ],
   "source": [
    "def trapezoidal_rule(f, a, b, n):\n",
    "    assert a < b and type(n) is int\n",
    "    f = np.vectorize(f)\n",
    "    dx = (b - a) / n\n",
    "    P = np.linspace(a, b, n + 1)\n",
    "    F = f(P)\n",
    "    return (dx / 2) * np.sum(np.concatenate(([F[0]], 2 * F[1:-1], [F[-1]])))\n",
    "\n",
    "trapezoidal_rule.__name__ = \"Trapezoidal Rule\"\n",
    "\n",
    "performance_metrics(f, a, b, definition, n, trapezoidal_rule)"
   ]
  },
  {
   "cell_type": "markdown",
   "metadata": {},
   "source": [
    "## **Simpson's Rule**\n",
    "Let $(a,b)$ be an ordered pair of real numbers in $\\mathbb{R}^2$ such that $a < b$, let $f$ be a continuous function in $\\mathscr{C}\\left([a,b],\\mathbb{R}\\right)$ and let $n$ be a non-zero natural number in $\\mathbb{N}^{*}$. The *Simpson's rule approximation of $\\int_{a}^{b}f(x)\\mathrm{d}x$ of order $n$* is the real number denoted by $\\mathrm{S}_{n, [a,b]}(f)$ and defined by\n",
    "$$\\mathrm{S}_{n, [a,b]}(f) = \\frac{b-a}{3n}\\left(f(a)+4\\sum_{k=1}^{\\lfloor n/2\\rfloor}f\\left(a + \\frac{(b-a)(2k-1)}{n}\\right)+2\\sum_{k=1}^{\\lfloor n/2\\rfloor - 1}f\\left(a + \\frac{2(b-a)k}{n}\\right)+f(b)\\right)$$\n",
    "It can be proven that:\n",
    "$$\\lim_{n \\to +\\infty}\\left(\\mathrm{S}_{n, [a,b]}(f)\\right) = \\int_{a}^{b}f(x)\\mathrm{d}x$$\n",
    "although the proof is omitted. The Python implementation of Simpson's rule is given in the code cell below, alongside the calculated value and computation time."
   ]
  },
  {
   "cell_type": "code",
   "execution_count": 9,
   "metadata": {},
   "outputs": [
    {
     "name": "stdout",
     "output_type": "stream",
     "text": [
      "Function: f\n",
      "Domain: [-100,100]\n",
      "Definition: f(x) = e^(-x^2)\n",
      "Method: Simpson's Rule\n",
      "Value: 1.772453851\n",
      "Number of iterations: 1000000\n",
      "Computation time: 2.45 seconds.\n",
      "Iterations per second: 408163\n"
     ]
    }
   ],
   "source": [
    "def simpsons_rule(f, a, b, n):\n",
    "    assert a < b and type(n) is int\n",
    "    f = np.vectorize(f)\n",
    "    dx = (b - a) / n\n",
    "    P = np.linspace(a, b, n + 1)\n",
    "    F = f(P)\n",
    "    return (dx / 3) * np.sum(np.concatenate(([F[0]], 4 * F[1:n:2], 2 * F[2:n-1:2], [F[-1]])))\n",
    "\n",
    "simpsons_rule.__name__ = \"Simpson's Rule\"\n",
    "\n",
    "performance_metrics(f, a, b, definition, n, simpsons_rule)"
   ]
  },
  {
   "cell_type": "markdown",
   "metadata": {},
   "source": [
    "## **Monte Carlo Method**\n",
    "Let $(a,b)$ be an ordered pair of real numbers in $\\mathbb{R}^2$ such that $a < b$, let $f$ be a continuous function in $\\mathscr{C}\\left([a,b],\\mathbb{R}\\right)$ and let $n$ be a non-zero natural number in $\\mathbb{N}^{*}$ and let $U$ be a standard continuous uniform random variable, that is, a random variable such that $U \\hookrightarrow \\mathsf{ContinuousUniform}\\left(0, 1\\right)$. Then one has:\n",
    "$$\\mathbb{E}\\left((b - a)f\\left(a + (b - a)U\\right)\\right) = \\int_{a}^{b}f(x)\\mathrm{d}x$$\n",
    "Thus, it follows by $\\left(\\mathscr{B}([a,b]),\\mathscr{B}(\\mathbb{R})\\right)$-measurability (i.e., Borel measurability) of $f$ (which itself follows from continuity of $f$) and from the strong law of large numbers that, if $(U_{n})_{n \\in \\mathbb{N}}$ is an independent and identically distributed sequence of standard continuous uniform random variables, then $\\left((b-a)f\\left(a + (b-a)U_{n}\\right)\\right)_{n \\in \\mathbb{N}}$ is an independent and identically distributed sequence of random variables satisfying:\n",
    "$$\\frac{(b-a)\\sum_{k=0}^{n}f\\left(a + (b - a)U_{k}\\right)}{n+1} \\xrightarrow[n \\to +\\infty]{\\mathbb{P}\\text{-a.s.}} \\mathbb{E}\\left((b - a)f\\left(a + (b - a)U\\right)\\right) = \\int_{a}^{b}f(x)\\mathrm{d}x$$\n",
    "whereupon:\n",
    "$$\\frac{(b-a)\\sum_{k=0}^{n}f\\left(a + (b - a)U_{k}\\right)}{n+1} \\xrightarrow[n \\to +\\infty]{\\mathbb{P}\\text{-a.s.}} \\int_{a}^{b}f(x)\\mathrm{d}x$$"
   ]
  },
  {
   "cell_type": "code",
   "execution_count": 10,
   "metadata": {},
   "outputs": [
    {
     "name": "stdout",
     "output_type": "stream",
     "text": [
      "Function: f\n",
      "Domain: [-100,100]\n",
      "Definition: f(x) = e^(-x^2)\n",
      "Method: Monte Carlo Method\n",
      "Value: 1.783037462\n",
      "Number of iterations: 1000000\n",
      "Computation time: 2.696 seconds.\n",
      "Iterations per second: 370919\n"
     ]
    }
   ],
   "source": [
    "def monte_carlo_integral(f, a, b, n):\n",
    "    assert a < b and type(n) is int\n",
    "    f = np.vectorize(f)\n",
    "    U = np.random.uniform(0, 1, n)\n",
    "    X = a + (b - a) * U\n",
    "    return (b - a) * np.mean(f(X))\n",
    "\n",
    "monte_carlo_integral.__name__ = \"Monte Carlo Method\"\n",
    "\n",
    "performance_metrics(f, a, b, definition, n, monte_carlo_integral)"
   ]
  },
  {
   "cell_type": "markdown",
   "metadata": {},
   "source": [
    "## **Credits**\n",
    "- “[Numerical Integration - Midpoint, Trapezoid, Simpson’s Rule](https://math.libretexts.org/@go/page/10269).” 2021. July 25, 2021.\n",
    "- Wikipedia contributors, \"[Numerical integration](https://en.wikipedia.org/w/index.php?title=Numerical_integration&oldid=1188650985),\" Wikipedia, The Free Encyclopedia (accessed February 15, 2024)\n",
    "- Wikipedia contributors, \"[Riemann sum](https://en.wikipedia.org/w/index.php?title=Riemann_sum&oldid=1198175653),\" Wikipedia, The Free Encyclopedia (accessed February 16, 2024).\n",
    "- Wikipedia contributors, \"[Trapezoidal rule](https://en.wikipedia.org/w/index.php?title=Trapezoidal_rule&oldid=1181282452),\" Wikipedia, The Free Encyclopedia (accessed February 16, 2024).\n",
    "- Wikipedia contributors, \"[Simpson's rule](https://en.wikipedia.org/w/index.php?title=Simpson%27s_rule&oldid=1203533339),\" Wikipedia, The Free Encyclopedia (accessed February 16, 2024).\n",
    "- Wikipedia contributors, \"[Monte Carlo integration](https://en.wikipedia.org/w/index.php?title=Monte_Carlo_integration&oldid=1188150594),\" Wikipedia, The Free Encyclopedia (accessed February 16, 2024).\n",
    "- The original code is provided as-is in this project by Zakaria Zerrouki."
   ]
  }
 ],
 "metadata": {
  "kernelspec": {
   "display_name": "Python 3",
   "language": "python",
   "name": "python3"
  },
  "language_info": {
   "codemirror_mode": {
    "name": "ipython",
    "version": 3
   },
   "file_extension": ".py",
   "mimetype": "text/x-python",
   "name": "python",
   "nbconvert_exporter": "python",
   "pygments_lexer": "ipython3",
   "version": "3.10.11"
  }
 },
 "nbformat": 4,
 "nbformat_minor": 2
}
