{
 "cells": [
  {
   "cell_type": "markdown",
   "metadata": {},
   "source": [
    "# **Portfolio Optimiser**\n",
    "## **Contents**\n",
    "1. [Introduction](#Introduction)\n",
    "2. [Portfolio Metrics](#Modern-Portfolio-Theory)\n",
    "   - [Portfolio Expected Return](#Portfolio-Expected-Return)\n",
    "   - [Portfolio Covariance](#Portfolio-Covariance)\n",
    "   - [Portfolio Variance and Volatility](#Portfolio-Variance-and-Volatility)\n",
    "   - [Portfolio Sharpe Ratio](#Portfolio-Sharpe-Ratio)\n",
    "3. [Portfolio Weightings](#Portfolio-Weightings)\n",
    "   - [Equal-Weighted Portfolio](#Equal-Weighted-Portfolio)\n",
    "   - [Minimum Volatility Portfolio](#Minimum-Volatility-Portfolio)\n",
    "   - [Maximum Expected Return Portfolio](#Maximum-Expected-Return-Portfolio)\n",
    "   - [Maximum Sharpe Ratio Portfolio](#Maximum-Sharpe-Ratio-Portfolio)\n",
    "   - [Inverse-Volatility-Weighted Portfolio](#Minimum-Volatility-Portfolio)\n",
    "4. [Efficient Frontier Construction](#Efficient-Frontier-Construction)\n",
    "   - [Simulations](#Simulations)\n",
    "   - [Minimum Volatility and Maximum Sharpe Ratio Portfolios](#Minimum-Volatility-and-Maximum-Sharpe-Ratio-Portfolios)\n",
    "1. [Credits](#Credits)\n",
    "\n",
    "\n",
    "## **Introduction**\n",
    "This project aims to offer a set portfolio optimization tools for portfolios with risk-bearing financial assets. In particular, several portfolio metrics are defined, as are several different portfolio weightings, where the some of the latter are deduced as solutions to optimization problems. The efficient frontier of portfolios is also introduced and constructed. The `time`, `datetime`, `numpy`, `scipy`, `pandas`, `yfinance`, `matplotlib`, `seaborn` and `warnings` libraries are imported for all the numerical calculations and data analysis/visualisation techniques needed for the purposes of this project. Moreover, the plot styles are set for aesthetic reasons. Finally, when optimising the portfolio weightings, "
   ]
  },
  {
   "cell_type": "code",
   "execution_count": 136,
   "metadata": {},
   "outputs": [],
   "source": [
    "import time as tm\n",
    "import datetime as dt\n",
    "import numpy as np\n",
    "import scipy as sp\n",
    "import pandas as pd\n",
    "import yfinance as yf\n",
    "import matplotlib.pyplot as plt\n",
    "import seaborn as sns\n",
    "import warnings\n",
    "\n",
    "sns.set_style(style = \"whitegrid\", rc = {\"font.family\":\"Times New Roman\", \"font.weight\":\"bold\"})\n",
    "warnings.simplefilter(action='ignore', category=FutureWarning)"
   ]
  },
  {
   "cell_type": "markdown",
   "metadata": {},
   "source": [
    "## **Portfolio Metrics**\n",
    "In a portfolio of assets, there are several specific metrics that can be measured, which also give insight to the performance of the portfolio. In what follows, some of these metrics are defined, using the formalism of probability theory. Moreover, the Python implementation of each of those metrics is also given.\n",
    "\n",
    "Let $(\\Omega, \\mathscr{F}, \\mathbb{P})$ be a probability space, let $n$ be a non-zero natural number in $\\mathbb{N}^{*}$, let $\\mathbf{\\vec{R}}$ be a $\\mathbb{R}_{+}^{n}$-valued random vector on $(\\Omega, \\mathscr{F}, \\mathbb{P})$, and let $\\mathbf{\\vec{w}}$ be a Euclidean vector in $[0, 1]^{n}$ such that $\\sum_{k=1}^{n}w_{k} = 1$. Moreover, consider a portfolio of $n$ risk-bearing assets, having rates of return accodring to the Euclidean vector $\\mathbf{\\vec{R}}$ and respectively distributed according to the components of the Euclidean vector $\\mathbf{\\vec{w}}$."
   ]
  },
  {
   "cell_type": "markdown",
   "metadata": {},
   "source": [
    "### **Portfolio Expected Return**\n",
    "- The *rate of return* of the portfolio is the random variable denoted by $R$ and defined by:\n",
    "$$\\forall \\omega \\in \\Omega, \\enspace R(\\omega) = \\mathbf{\\vec{w}} \\bullet \\mathbf{\\vec{R}}(\\omega) = \\sum_{k = 1}^{n}w_{k}\\cdot R_{k}(\\omega)$$\n",
    "- The *expected return vector* of the portfolio is the Euclidean vector denoted by $\\mathbf{\\vec{\\mu}}$ and defined by:\n",
    "$$\\mathbf{\\vec{\\mu}} = \\mathbb{E}\\left(\\mathbf{\\vec{R}}\\right) = \\left(\\mathbb{E}(R_{k})\\right)_{k=1}^{n}$$\n",
    "- The *expected rate of return* of the portfolio is the real number denoted by $\\mu$ and defined by:\n",
    "$$\\mu = \\mathbf{\\vec{w}} \\bullet \\mathbf{\\vec{\\mu}} = \\sum_{k = 1}^{n}w_{k}\\cdot \\mu_{k} = \\sum_{k = 1}^{n}w_{k}\\cdot \\mathbb{E}(R_{k})$$\n",
    "The Python implementation of the expected rate of return of a portfolio is given in the code cell below."
   ]
  },
  {
   "cell_type": "code",
   "execution_count": 137,
   "metadata": {},
   "outputs": [
    {
     "data": {
      "text/plain": [
       "0.00031446837459770896"
      ]
     },
     "execution_count": 137,
     "metadata": {},
     "output_type": "execute_result"
    }
   ],
   "source": [
    "def expected_return(tickers, start_date, end_date, weights = np.ones(len(tickers)) / len(tickers), frequency = 1):\n",
    "    assert type(tickers) is list and len(tickers) > 0\n",
    "    assert len(weights) == len(tickers)\n",
    "    prices = yf.download(tickers = tickers, start = start_date, end = end_date, progress = False)[\"Adj Close\"]\n",
    "    returns = prices.pct_change()\n",
    "    expected_returns = returns.mean() * frequency\n",
    "    portfolio_expected_return = np.dot(weights, expected_returns.T)\n",
    "    return portfolio_expected_return\n",
    "\n",
    "tickers = [\"AAPL\", \"GOOG\", \"MSFT\"]\n",
    "end_date = \"2024-01-01\"\n",
    "start_date = \"2022-01-01\"\n",
    "\n",
    "expected_return(tickers, start_date, end_date)"
   ]
  },
  {
   "cell_type": "markdown",
   "metadata": {},
   "source": [
    "### **Portfolio Covariance**\n",
    "- The *return covariance* of the portfolio is the matrix denoted by $\\mathbf{\\Sigma}$ and defined by:\n",
    "$$\\mathbf{\\Sigma} = \\left[\\mathbf{Cov}\\left(R_{j}, R_{k}\\right)\\right]_{(j, k) \\in \\llbracket 1, n \\rrbracket^{2}}$$\n",
    "The Python implementation of the return covariance of a portfolio is given in the code cell below."
   ]
  },
  {
   "cell_type": "code",
   "execution_count": 138,
   "metadata": {},
   "outputs": [
    {
     "data": {
      "text/plain": [
       "array([[0.00033547, 0.00028337, 0.00026264],\n",
       "       [0.00028337, 0.0004872 , 0.0003114 ],\n",
       "       [0.00026264, 0.0003114 , 0.00037463]])"
      ]
     },
     "execution_count": 138,
     "metadata": {},
     "output_type": "execute_result"
    }
   ],
   "source": [
    "def covariance(tickers, start_date, end_date):\n",
    "    assert type(tickers) is list and len(tickers) > 0\n",
    "    prices = yf.download(tickers = tickers, start = start_date, end = end_date, progress = False)[\"Adj Close\"]\n",
    "    returns = prices.pct_change()\n",
    "    portfolio_covariance = np.array(returns.cov())\n",
    "    return portfolio_covariance\n",
    "\n",
    "tickers = [\"AAPL\", \"GOOG\", \"MSFT\"]\n",
    "end_date = \"2024-01-01\"\n",
    "start_date = \"2022-01-01\"\n",
    "\n",
    "covariance(tickers, start_date, end_date)"
   ]
  },
  {
   "cell_type": "markdown",
   "metadata": {},
   "source": [
    "### **Portfolio Variance and Volatility**\n",
    "- The *return variance* of the portfolio is the positive real number denoted by $\\mathbb{V}\\left(R\\right)$ and defined by:\n",
    "$$\\mathbb{V}\\left(R\\right) = \\mathbf{\\vec{w}} \\times \\mathbf{\\Sigma}\\times\\mathbf{\\vec{w}}^{\\mathsf{T}}$$\n",
    "- The *volatility* of the portfolio is the positive real number denoted by $\\sigma\\left(R\\right)$ and defined by:\n",
    "$$\\sigma\\left(R\\right) = \\sqrt{\\mathbb{V}\\left(R\\right)}$$\n",
    "The Python implementation of the return variance and the volatility of the portfolio a portfolio is given in the code cells below."
   ]
  },
  {
   "cell_type": "code",
   "execution_count": 143,
   "metadata": {},
   "outputs": [
    {
     "data": {
      "text/plain": [
       "0.0003235686895968576"
      ]
     },
     "execution_count": 143,
     "metadata": {},
     "output_type": "execute_result"
    }
   ],
   "source": [
    "def variance(tickers, start_date, end_date, weights = np.ones(len(tickers)) / len(tickers), frequency = 1):\n",
    "    assert type(tickers) is list and len(tickers) > 0\n",
    "    assert len(weights) == len(tickers)\n",
    "    portfolio_covariance = covariance(tickers, start_date, end_date)\n",
    "    portfolio_variance = np.dot(np.dot(weights, portfolio_covariance), weights.T) * frequency\n",
    "    return portfolio_variance\n",
    "\n",
    "tickers = [\"AAPL\", \"GOOG\", \"MSFT\"]\n",
    "end_date = \"2024-01-01\"\n",
    "start_date = \"2022-01-01\"\n",
    "\n",
    "variance(tickers, start_date, end_date)"
   ]
  },
  {
   "cell_type": "code",
   "execution_count": 144,
   "metadata": {},
   "outputs": [
    {
     "data": {
      "text/plain": [
       "0.01798801516557226"
      ]
     },
     "execution_count": 144,
     "metadata": {},
     "output_type": "execute_result"
    }
   ],
   "source": [
    "def volatility(tickers, start_date, end_date, weights = np.ones(len(tickers)) / len(tickers), frequency = 1):\n",
    "    return np.sqrt(variance(tickers, start_date, end_date, weights, frequency))\n",
    "\n",
    "tickers = [\"AAPL\", \"GOOG\", \"MSFT\"]\n",
    "end_date = \"2024-01-01\"\n",
    "start_date = \"2022-01-01\"\n",
    "\n",
    "volatility(tickers, start_date, end_date)"
   ]
  },
  {
   "cell_type": "markdown",
   "metadata": {},
   "source": [
    "### **Portfolio Sharpe Ratio**\n",
    "Let $(r, \\rho)$ be an ordered pair of strictly positive real numbers in $\\mathbb{R}_{+}^{\\ast} \\times ]0, 1[$, suppose that the portfolio contains, in addition to the $n$ original risk-bearing assets, one riskless asset with rate of return $r$ and having proportion $\\rho$ in the portfolio distribution of assets and let $\\mathbf{\\vec{v}}$ be the Euclidean vector representing the newly constructed portfolio's distribution of assets, defined by:\n",
    "$$\\mathbf{\\vec{v}} = \\left(\\left(1 - \\rho\\right) \\cdot w_{1}, \\left(1 - \\rho\\right) \\cdot w_{2}, \\dots, \\left(1 - \\rho\\right) \\cdot w_{n}, \\rho\\right)$$\n",
    "- The *Sharpe ratio* of the newly-constructed portfolio is the positive real number denoted by $\\mathrm{Sharpe}\\left(R, r\\right)$ and defined by:\n",
    "$$\\mathrm{Sharpe}\\left(R, r\\right) = \\frac{\\mathbb{E}\\left(R - r\\right)}{\\sigma\\left(R - r\\right)}$$\n",
    "The Python implementation of the Sharpe ratio of a portfolio and a riskless asset is given in the code cell below."
   ]
  },
  {
   "cell_type": "code",
   "execution_count": 166,
   "metadata": {},
   "outputs": [
    {
     "data": {
      "text/plain": [
       "-1.0943693033503195"
      ]
     },
     "execution_count": 166,
     "metadata": {},
     "output_type": "execute_result"
    }
   ],
   "source": [
    "def sharpe_ratio(tickers, start_date, end_date, weights = np.ones(len(tickers)) / len(tickers), frequency = 1, risk_free_rate = 0.02):\n",
    "    assert type(tickers) is list and len(tickers) > 0\n",
    "    assert len(weights) == len(tickers)\n",
    "    prices = yf.download(tickers = tickers, start = start_date, end = end_date, progress = False)[\"Adj Close\"]\n",
    "    returns = prices.pct_change()\n",
    "    portfolio_returns = returns.dot(weights)\n",
    "    adjusted_portfolio_returns = portfolio_returns * frequency\n",
    "    adjusted_risk_free_rate = risk_free_rate * frequency\n",
    "    excess_returns = adjusted_portfolio_returns - adjusted_risk_free_rate\n",
    "    expected_excess_return = excess_returns.mean()\n",
    "    excess_return_volaitlity = excess_returns.std()\n",
    "    portfolio_sharpe_ratio = expected_excess_return / excess_return_volaitlity\n",
    "    return portfolio_sharpe_ratio\n",
    "\n",
    "tickers = [\"AAPL\", \"GOOG\", \"MSFT\"]\n",
    "end_date = \"2024-01-01\"\n",
    "start_date = \"2022-01-01\"\n",
    "\n",
    "sharpe_ratio(tickers, start_date, end_date)"
   ]
  },
  {
   "cell_type": "markdown",
   "metadata": {},
   "source": [
    "## **Portfolio Weightings**\n",
    "Given the Euclidean vector $\\mathbf{\\vec{R}}$ of rates of returns of the risky assets in the portfolio, as well as the Euclidean vector $\\mathbf{\\vec{w}}$ of weights in the distribution of assets in the portfolio, completely determine the expected return $\\mu$ and the volatility $\\sigma$ of the portfolio. By extension, they also uniquely determines the Sharpe ratio $\\mathrm{Sharpe}(R, r)$ of the portfolio. Given the Euclidean vector $\\mathbf{R}$, it is often desirable to select the value of the Euclidean vector $\\mathbf{\\vec{w}}$ in such a way that $\\mu$ is as high as possible, or that $\\sigma$ is as low as possible, pending certain conditions being satisfied. That is, it is desirable to select the value of the Euclidean vector $\\mathbf{\\vec{w}}$ which solves specific optimization problems in $\\mathbf{\\vec{w}}$, which are expressed in terms of $\\mathbf{\\vec{w}}$, $\\mathbf{\\Sigma}$, $\\mu$, $\\sigma$, and/or $r$. Such selections are *portfolio weightings* (or *portfolio allocations*, or *asset allocations*), of which several stand out.\n",
    "\n",
    "### **Equal-Weighted Portfolio**\n",
    "The equal-weighted portfolio is the portfolio wherein all components of the Euclidean vector $\\mathbf{\\vec{w}}$ are equal:\n",
    "$$\\mathbf{\\vec{w}} = \\left(\\frac{1}{n}\\right)_{k = 1}^{n}$$\n",
    "\n",
    "### **Inverse-Volatility-Weighted Portfolio**\n",
    "The inverse-volatility-weighted portfolio is the portfolio wherein the components of the Euclidean vector $\\mathbf{\\vec{w}}$ are inversely proportional to their corresponding asset volatilities:\n",
    "$$\\left(\\forall k \\in \\llbracket 1, n \\rrbracket, \\enspace \\sigma_{k} = \\sigma\\left(R_{k}\\right)\\right) \\implies \\mathbf{\\vec{w}} = \\left(\\dfrac{\\frac{1}{\\sigma_{k}}}{\\sum_{j=1}^{n}\\frac{1}{\\sigma_{j}}}\\right)_{k = 1}^{n}$$\n",
    "\n",
    "### **Maximum Expected Return Portfolio**\n",
    "The maximum expected return portfolio is the portfolio wherein the Euclidean vector $\\mathbf{\\vec{w}}$ maximises the value of the expected return $\\mu$ subject to an upper bound $\\sigma_{\\ast}$ on $\\sigma$, that is, the Euclidean vector $\\mathbf{\\vec{w}}$ satisfies:\n",
    "$$\\mathbf{\\vec{w}} \\in \\displaystyle \\argmax_{\\substack{\\mathbf{\\vec{x}} \\in ]0, 1[^{n} \\\\ \\sigma(\\mathbf{\\vec{x}}) \\leqslant \\sigma_{\\ast} \\\\ \\sum_{k=1}^{n}x_{k} = 1}}\\left(\\mu\\left(\\mathbf{\\vec{x}}\\right)\\right)$$\n",
    "or, equivalently, solves the following quadratic program:\n",
    "\\begin{align}\n",
    "\\textrm{maximise}   \\quad   &   \\mathbf{\\vec{w}}^{\\mathsf{T}} \\times \\mathbf{\\vec{\\mu}}                                                 \\\\\n",
    "\\textrm{subject to} \\quad   &   \\mathbf{\\vec{w}}^{\\mathsf{T}} \\times \\mathbf{\\Sigma} \\times \\mathbf{\\vec{w}} \\leqslant \\sigma_{\\ast}^2, \\\\\n",
    "                            &   \\mathbf{\\vec{w}}^{\\mathsf{T}} \\times \\mathbf{\\vec{1}} = 1,                                              \\\\\n",
    "                            &   \\mathbf{\\vec{w}} \\geqslant \\mathbf{\\vec{0}}\n",
    "\\end{align}\n",
    "Given the long-only constraint (i.e., all components of the Euclidean vector $\\mathbf{\\vec{w}}$ are positive), this quadratic program has no known closed-form solution, and should therefore be solved numerically.\n",
    "\n",
    "### **Minimum Volatility Portfolio**\n",
    "The minimum volatility portfolio is the portfolio wherein the Euclidean vector $\\mathbf{\\vec{w}}$ minimises the value of the volatility $\\sigma$ subject to a lower bound $\\mu_{\\ast}$ on $\\mu$, that is, the Euclidean vector $\\mathbf{\\vec{w}}$ satisfies:\n",
    "$$\\mathbf{\\vec{w}} \\in \\displaystyle \\argmin_{\\substack{\\mathbf{\\vec{x}} \\in ]0, 1[^{n} \\\\ \\mu(\\mathbf{\\vec{x}}) \\geqslant \\mu_{\\ast} \\\\ \\sum_{k=1}^{n}x_{k} = 1}}\\left(\\sigma\\left(\\mathbf{\\vec{x}}\\right)\\right)$$\n",
    "or, equivalently, solves the following quadratic program:\n",
    "\\begin{align}\n",
    "\\textrm{minimise}   \\quad   &   \\mathbf{\\vec{w}}^{\\mathsf{T}} \\times \\mathbf{\\Sigma} \\times \\mathbf{\\vec{w}}    \\\\\n",
    "\\textrm{subject to} \\quad   &   \\mathbf{\\vec{w}}^{\\mathsf{T}} \\times \\mathbf{\\vec{\\mu}} \\geqslant \\mu_{\\ast},   \\\\\n",
    "                            &   \\mathbf{\\vec{w}}^{\\mathsf{T}} \\times \\mathbf{\\vec{1}} = 1,                      \\\\\n",
    "                            &   \\mathbf{\\vec{w}} \\geqslant \\mathbf{\\vec{0}}\n",
    "\\end{align}\n",
    "Given the long-only constraint (i.e., all components of the Euclidean vector $\\mathbf{\\vec{w}}$ are positive), this quadratic program has no known closed-form solution, and should therefore be solved numerically.\n",
    "\n",
    "### **Maximum Sharpe Ratio Portfolio**\n",
    "The maximum Sharpe Ratio portfolio is the portfolio wherein the Euclidean vector $\\mathbf{\\vec{w}}$ maximises the value of the Sharpe ratio $\\mathrm{Sharpe}(R, r)$, that is, the Euclidean vector $\\mathbf{\\vec{w}}$ satisfies:\n",
    "$$\\mathbf{\\vec{w}} \\in \\displaystyle \\argmax_{\\substack{\\mathbf{\\vec{x}} \\in ]0, 1[^{n} \\\\ \\sum_{k=1}^{n}x_{k} = 1}}\\left(\\mathrm{Sharpe}\\left(R\\left(\\mathbf{\\vec{x}}\\right), r\\right)\\right)$$\n",
    "or, equivalently, solves the following quadratic program:\n",
    "\\begin{align}\n",
    "\\textrm{maximise}   \\quad   &   \\frac{\\mathbf{\\vec{w}}^{\\mathsf{T}} \\times \\mathbf{\\vec{\\mu}} - r}{\\sqrt{\\mathbf{\\vec{w}}^{\\mathsf{T}} \\times \\mathbf{\\Sigma} \\times \\mathbf{\\vec{w}}}} \\\\\n",
    "\\textrm{subject to} \\quad   &   \\mathbf{\\vec{w}}^{\\mathsf{T}} \\times \\mathbf{\\vec{1}} = 1,  \\\\\n",
    "                            &   \\mathbf{\\vec{w}} \\geqslant \\mathbf{\\vec{0}}\n",
    "\\end{align}\n",
    "Given the long-only constraint (i.e., all components of the Euclidean vector $\\mathbf{\\vec{w}}$ are positive), this quadratic program has no known closed-form solution, and should therefore be solved numerically."
   ]
  },
  {
   "cell_type": "code",
   "execution_count": 142,
   "metadata": {},
   "outputs": [],
   "source": [
    "def equal_weighted(tickers, start_date = None, end_date = None):\n",
    "    assert type(tickers) is list and len(tickers) > 0\n",
    "    n = len(tickers)\n",
    "    w = np.ones(n) / n\n",
    "    return w\n",
    "\n",
    "def inverse_volatility_weighted(tickers, start_date, end_date):\n",
    "    assert type(tickers) is list and len(tickers) > 0\n",
    "    data = yf.download(tickers, start_date, end_date)\n",
    "    S = data[\"Adj Close\"]\n",
    "    R = S.pct_change()\n",
    "    sigma = R.std()\n",
    "    I = np.divide(1, sigma)\n",
    "    w = np.array(np.divide(I, np.sum(I)))\n",
    "    return w\n",
    "\n",
    "def minimum_volatility_weighted(tickers, start_date, end_date, mu_ast):\n",
    "    return 1\n",
    "\n",
    "def maximum_sharpe_ratio_weighted(tickers, start_date, end_date, risk_free_rate = 0):\n",
    "    return 1"
   ]
  }
 ],
 "metadata": {
  "kernelspec": {
   "display_name": "Python 3",
   "language": "python",
   "name": "python3"
  },
  "language_info": {
   "codemirror_mode": {
    "name": "ipython",
    "version": 3
   },
   "file_extension": ".py",
   "mimetype": "text/x-python",
   "name": "python",
   "nbconvert_exporter": "python",
   "pygments_lexer": "ipython3",
   "version": "3.10.11"
  }
 },
 "nbformat": 4,
 "nbformat_minor": 2
}
