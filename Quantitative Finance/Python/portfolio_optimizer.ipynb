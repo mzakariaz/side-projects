{
 "cells": [
  {
   "cell_type": "markdown",
   "metadata": {},
   "source": [
    "# **Portfolio Optimiser**\n",
    "## **Contents**\n",
    "1. [Introduction](#Introduction)\n",
    "2. [Portfolio Metrics](#Modern-Portfolio-Theory)\n",
    "   - [Portfolio Expected Return](#Portfolio-Expected-Return)\n",
    "   - [Portfolio Covariance](#Portfolio-Covariance)\n",
    "   - [Portfolio Variance and Volatility](#Portfolio-Variance-and-Volatility)\n",
    "   - [Portfolio Sharpe Ratio](#Portfolio-Sharpe-Ratio)\n",
    "3. [Portfolio Weightings](#Portfolio-Weightings)\n",
    "   - [Equal-Weighted Portfolio](#Equal-Weighted-Portfolio)\n",
    "   - [Minimum Volatility Portfolio](#Minimum-Volatility-Portfolio)\n",
    "   - [Maximum Expected Return Portfolio](#Maximum-Expected-Return-Portfolio)\n",
    "   - [Maximum Sharpe Ratio Portfolio](#Maximum-Sharpe-Ratio-Portfolio)\n",
    "   - [Inverse-Volatility-Weighted Portfolio](#Minimum-Volatility-Portfolio)\n",
    "4. [Efficient Frontier Construction](#Efficient-Frontier-Construction)\n",
    "5. [Credits](#Credits)\n",
    "\n",
    "\n",
    "## **Introduction**\n",
    "This project aims to offer a set portfolio optimization tools for portfolios with risk-bearing financial assets. In particular, several portfolio metrics are defined, as are several different portfolio weightings, where the some of the latter are deduced as solutions to optimization problems. The efficient frontier of portfolios is also introduced and constructed. The `time`, `datetime`, `numpy`, `scipy`, `pandas`, `yfinance`, `matplotlib` and `seaborn` libraries are imported for all the numerical calculations and data analysis/visualisation techniques needed for the purposes of this project. Moreover, the plot styles are set for aesthetic reasons. Finally, all portfolios are computed with the constraint that no short-selling is allowed (for simplicity)."
   ]
  },
  {
   "cell_type": "code",
   "execution_count": 29,
   "metadata": {},
   "outputs": [],
   "source": [
    "import time as tm\n",
    "import datetime as dt\n",
    "import numpy as np\n",
    "import scipy as sp\n",
    "import pandas as pd\n",
    "import yfinance as yf\n",
    "import matplotlib.pyplot as plt\n",
    "import seaborn as sns\n",
    "\n",
    "sns.set_style(style = \"whitegrid\", rc = {\"font.family\":\"Times New Roman\", \"font.weight\":\"bold\"})"
   ]
  },
  {
   "cell_type": "markdown",
   "metadata": {},
   "source": [
    "## **Portfolio Metrics**\n",
    "Let $(\\Omega, \\mathscr{F}, \\mathbb{P})$ be a probability space, let $N$ be a non-zero natural number in $\\mathbb{N}^{*}$, let $\\mathbf{\\vec{R}}$ be a $\\mathbb{R}_{+}^{N}$-valued random vector on $(\\Omega, \\mathscr{F}, \\mathbb{P})$, and let $\\mathbf{\\vec{w}}$ be a Euclidean vector in $[0, 1]^{N}$ such that $\\sum_{k=1}^{N}w_{k} = 1$. Moreover, consider a portfolio of $N$ risk-bearing assets, having rates of return accodring to the Euclidean vector $\\mathbf{\\vec{R}}$ and respectively distributed according to the components of the Euclidean vector $\\mathbf{\\vec{w}}$.\n",
    "\n",
    "### **Portfolio Expected Return**\n",
    "- The *rate of return* of the portfolio is the random variable denoted by $R$ and defined by:\n",
    "$$\\forall \\omega \\in \\Omega, \\enspace R(\\omega) = \\mathbf{\\vec{w}} \\bullet \\mathbf{\\vec{R}}(\\omega) = \\sum_{k = 1}^{N}w_{k}\\cdot R_{k}(\\omega)$$\n",
    "- The *expected return vector* of the portfolio is the Euclidean vector denoted by $\\mathbf{\\vec{\\mu}}$ and defined by:\n",
    "$$\\mathbf{\\vec{\\mu}} = \\mathbb{E}\\left(\\mathbf{\\vec{R}}\\right) = \\left(\\mathbb{E}(R_{k})\\right)_{k=1}^{N}$$\n",
    "- The *expected rate of return* of the portfolio is the real number denoted by $\\mu$ and defined by:\n",
    "$$\\mu = \\mathbf{\\vec{w}} \\bullet \\mathbf{\\vec{\\mu}} = \\sum_{k = 1}^{N}w_{k}\\cdot \\mu_{k} = \\sum_{k = 1}^{N}w_{k}\\cdot \\mathbb{E}(R_{k})$$\n",
    "\n",
    "### **Portfolio Covariance**\n",
    "- The *return covariance* of the portfolio is the matrix denoted by $\\mathbf{\\Sigma}$ and defined by:\n",
    "$$\\mathbf{\\Sigma} = \\left[\\mathbf{Cov}\\left(R_{j}, R_{k}\\right)\\right]_{(j, k) \\in \\llbracket 1, N \\rrbracket^{2}}$$\n",
    "\n",
    "### **Portfolio Variance and Volatility**\n",
    "- The *variance* of the portfolio is the positive real number denoted by $\\mathbb{V}\\left(R\\right)$ and defined by:\n",
    "$$\\mathbb{V}\\left(R\\right) = \\mathbf{\\vec{w}} \\times \\mathbf{\\Sigma}\\times\\mathbf{\\vec{w}}^{\\mathsf{T}}$$\n",
    "- The *volatility* of the portfolio is the positive real number denoted by $\\sigma\\left(R\\right)$ and defined by:\n",
    "$$\\sigma\\left(R\\right) = \\sqrt{\\mathbb{V}\\left(R\\right)}$$\n",
    "\n",
    "### **Portfolio Sharpe Ratio**\n",
    "Let $(r, \\rho)$ be an ordered pair of strictly positive real numbers in $\\mathbb{R}_{+}^{\\ast} \\times ]0, 1[$, suppose that the portfolio contains, in addition to the $N$ original risk-bearing assets, one riskless asset with rate of return $r$ and having proportion $\\rho$ in the portfolio distribution of assets and let $\\mathbf{\\vec{v}}$ be the Euclidean vector representing the newly constructed portfolio's distribution of assets, defined by:\n",
    "$$\\mathbf{\\vec{v}} = \\left(\\left(1 - \\rho\\right) \\cdot w_{1}, \\left(1 - \\rho\\right) \\cdot w_{2}, \\dots, \\left(1 - \\rho\\right) \\cdot w_{n}, \\rho\\right)$$\n",
    "- The *Sharpe ratio* of the newly-constructed portfolio is the positive real number denoted by $\\mathrm{Sharpe}\\left(R, r\\right)$ and defined by:\n",
    "$$\\mathrm{Sharpe}\\left(R, r\\right) = \\frac{\\mathbb{E}\\left(R - r\\right)}{\\sigma\\left(R - r\\right)}$$\n",
    "\n",
    "The Python implementation of the above metrics is given in the code cell below, using stock price data for Apple, Google and Microsoft over the year ending in the present day, where the assets are distributed equally in the portfolio and, in the case of the Sharpe ratio, imagining some riskless asset with expected return rate given by $\\mathbb{E}(r) = 0.02 = 2\\%$ (say)."
   ]
  },
  {
   "cell_type": "code",
   "execution_count": 32,
   "metadata": {},
   "outputs": [
    {
     "name": "stderr",
     "output_type": "stream",
     "text": [
      "C:\\Users\\Zakar\\AppData\\Local\\Packages\\PythonSoftwareFoundation.Python.3.10_qbz5n2kfra8p0\\LocalCache\\local-packages\\Python310\\site-packages\\yfinance\\utils.py:775: FutureWarning: The 'unit' keyword in TimedeltaIndex construction is deprecated and will be removed in a future version. Use pd.to_timedelta instead.\n",
      "  df.index += _pd.TimedeltaIndex(dst_error_hours, 'h')\n",
      "[                       0%%                      ]C:\\Users\\Zakar\\AppData\\Local\\Packages\\PythonSoftwareFoundation.Python.3.10_qbz5n2kfra8p0\\LocalCache\\local-packages\\Python310\\site-packages\\yfinance\\utils.py:775: FutureWarning: The 'unit' keyword in TimedeltaIndex construction is deprecated and will be removed in a future version. Use pd.to_timedelta instead.\n",
      "  df.index += _pd.TimedeltaIndex(dst_error_hours, 'h')\n",
      "C:\\Users\\Zakar\\AppData\\Local\\Packages\\PythonSoftwareFoundation.Python.3.10_qbz5n2kfra8p0\\LocalCache\\local-packages\\Python310\\site-packages\\yfinance\\utils.py:775: FutureWarning: The 'unit' keyword in TimedeltaIndex construction is deprecated and will be removed in a future version. Use pd.to_timedelta instead.\n",
      "  df.index += _pd.TimedeltaIndex(dst_error_hours, 'h')\n",
      "[*********************100%%**********************]  3 of 3 completed\n"
     ]
    },
    {
     "name": "stdout",
     "output_type": "stream",
     "text": [
      "Expected return: 0.00117859253435097 \n",
      "Volatility: 0.01782842536656467 \n",
      "Sharpe ratio: -92.91923180118813\n"
     ]
    }
   ],
   "source": [
    "tickers = [\"AAPL\", \"GOOG\", \"MSFT\"]\n",
    "N = len(tickers)\n",
    "w = np.ones(N) / N\n",
    "end = dt.datetime.now()\n",
    "start = end - 5 * pd.to_timedelta(\"365 days\")\n",
    "data = yf.download(tickers = tickers, start = start, end = end)\n",
    "S = data[\"Close\"]\n",
    "r = 0.02\n",
    "R = S.pct_change()\n",
    "Mu = R.mean()\n",
    "Sigma = R.cov()\n",
    "V = np.dot(np.dot(w, Sigma), w.T)\n",
    "mu = np.dot(w, Mu)\n",
    "sigma = np.sqrt(V)\n",
    "Sharpe = (Mu - r).mean() / (Mu - r).std()\n",
    "print(f\"Expected return: {mu} \\nVolatility: {sigma} \\nSharpe ratio: {Sharpe}\")"
   ]
  },
  {
   "cell_type": "markdown",
   "metadata": {},
   "source": [
    "## **Portfolio Weightings**\n",
    "Given the Euclidean vector $\\mathbf{\\vec{R}}$ of rates of returns of the risky assets in the portfolio, as well as the Euclidean vector $\\mathbf{\\vec{w}}$ of weights in the distribution of assets in the portfolio, completely determine the expected return $\\mu$ and the volatility $\\sigma$ of the portfolio. By extension, they also uniquely determines the Sharpe ratio $\\mathrm{Sharpe}(R, r)$ of the portfolio. Given the Euclidean vector $\\mathbf{R}$, it is often desirable to select the value of the Euclidean vector $\\mathbf{\\vec{w}}$ in such a way that $\\mu$ is as high as possible, or that $\\sigma$ is as low as possible, pending certain conditions being satisfied. That is, it is desirable to select the value of the Euclidean vector $\\mathbf{\\vec{w}}$ which solves specific optimization problems in $\\mathbf{\\vec{w}}$, which are expressed in terms of $\\mathbf{\\vec{w}}$, $\\mathbf{\\Sigma}$, $\\mu$, $\\sigma$, and/or $r$. Such selections are *portfolio weightings* (or *portfolio allocations*, or *asset allocations*), of which several stand out.\n",
    "\n",
    "### **Equal-Weighted Portfolio**\n",
    "The equal-weighted portfolio is the portfolio wherein all components of the Euclidean vector $\\mathbf{\\vec{w}}$ are equal:\n",
    "$$\\mathbf{\\vec{w}} = \\left(\\frac{1}{N}\\right)_{k = 1}^{N}$$\n",
    "\n",
    "### **Inverse-Volatility-Weighted Portfolio**\n",
    "The inverse-volatility-weighted portfolio is the portfolio wherein the components of the Euclidean vector $\\mathbf{\\vec{w}}$ are inversely proportional to their corresponding asset volatilities:\n",
    "$$\\left(\\forall k \\in \\llbracket 1, N \\rrbracket, \\enspace \\sigma_{k} = \\sigma\\left(R_{k}\\right)\\right) \\implies \\mathbf{\\vec{w}} = \\left(\\dfrac{\\frac{1}{\\sigma_{k}}}{\\sum_{j=1}^{N}\\frac{1}{\\sigma_{j}}}\\right)_{k = 1}^{N}$$\n",
    "\n",
    "### **Maximum Expected Return Portfolio**\n",
    "The maximum expected return portfolio is the portfolio wherein the Euclidean vector $\\mathbf{\\vec{w}}$ maximises the value of the expected return $\\mu$ subject to an upper bound $\\sigma_{\\ast}$ on $\\sigma$, that is, the Euclidean vector $\\mathbf{\\vec{w}}$ satisfies:\n",
    "$$\\mathbf{\\vec{w}} \\in \\displaystyle \\argmax_{\\substack{\\mathbf{\\vec{x}} \\in ]0, 1[^{N} \\\\ \\sigma(\\mathbf{\\vec{x}}) \\leqslant \\sigma_{\\ast} \\\\ \\sum_{k=1}^{N}x_{k} = 1}}\\left(\\mu\\left(\\mathbf{\\vec{x}}\\right)\\right)$$\n",
    "or, equivalently, solves the following quadratic program:\n",
    "\\begin{align}\n",
    "\\textrm{maximise}   \\quad   &   \\mathbf{\\vec{w}}^{\\mathsf{T}} \\times \\mathbf{\\vec{\\mu}} \\\\\n",
    "\\textrm{subject to} \\quad   &   \\mathbf{\\vec{w}}^{\\mathsf{T}} \\times \\mathbf{\\Sigma} \\times \\mathbf{\\vec{w}} \\leqslant \\sigma_{\\ast}^2, \\\\\n",
    "                            &   \\mathbf{\\vec{w}}^{\\mathsf{T}} \\times \\mathbf{\\vec{1}} = 1\n",
    "\\end{align}\n",
    "\n",
    "### **Minimum Volatility Portfolio**\n",
    "The minimum volatility portfolio is the portfolio wherein the Euclidean vector $\\mathbf{\\vec{w}}$ minimises the value of the volatility $\\sigma$ subject to a lower bound $\\mu_{\\ast}$ on $\\mu$, that is, the Euclidean vector $\\mathbf{\\vec{w}}$ satisfies:\n",
    "$$\\mathbf{\\vec{w}} \\in \\displaystyle \\argmin_{\\substack{\\mathbf{\\vec{x}} \\in ]0, 1[^{N} \\\\ \\mu(\\mathbf{\\vec{x}}) \\geqslant \\mu_{\\ast} \\\\ \\sum_{k=1}^{N}x_{k} = 1}}\\left(\\sigma\\left(\\mathbf{\\vec{x}}\\right)\\right)$$\n",
    "or, equivalently, solves the following quadratic program:\n",
    "\\begin{align}\n",
    "\\textrm{minimise}   \\quad   &   \\mathbf{\\vec{w}}^{\\mathsf{T}} \\times \\mathbf{\\Sigma} \\times \\mathbf{\\vec{w}} \\\\\n",
    "\\textrm{subject to} \\quad   &   \\mathbf{\\vec{w}}^{\\mathsf{T}} \\times \\mathbf{\\vec{\\mu}} \\geqslant \\mu_{\\ast}, \\\\\n",
    "                            &   \\mathbf{\\vec{w}}^{\\mathsf{T}} \\times \\mathbf{\\vec{1}} = 1\n",
    "\\end{align}\n",
    "\n",
    "### **Maximum Sharpe Ratio Portfolio**\n",
    "The maximum Sharpe Ratio portfolio is the portfolio wherein the Euclidean vector $\\mathbf{\\vec{w}}$ maximises the value of the Sharpe ratio $\\mathrm{Sharpe}(R, r)$, that is, the Euclidean vector $\\mathbf{\\vec{w}}$ satisfies:\n",
    "$$\\mathbf{\\vec{w}} \\in \\displaystyle \\argmax_{\\substack{\\mathbf{\\vec{x}} \\in ]0, 1[^{N} \\\\ \\sum_{k=1}^{N}x_{k} = 1}}\\left(\\mathrm{Sharpe}\\left(R\\left(\\mathbf{\\vec{x}}\\right), r\\right)\\right)$$\n",
    "or, equivalently, solves the following quadratic program:\n",
    "\\begin{align}\n",
    "\\textrm{maximise}   \\quad   &   \\frac{\\mathbf{\\vec{w}}^{\\mathsf{T}} \\times \\mathbf{\\vec{\\mu}} - r}{\\sqrt{\\mathbf{\\vec{w}}^{\\mathsf{T}} \\times \\mathbf{\\Sigma} \\times \\mathbf{\\vec{w}}}} \\\\\n",
    "\\textrm{subject to} \\quad   &   \\mathbf{\\vec{w}}^{\\mathsf{T}} \\times \\mathbf{\\vec{1}} = 1\n",
    "\\end{align}\n"
   ]
  }
 ],
 "metadata": {
  "kernelspec": {
   "display_name": "Python 3",
   "language": "python",
   "name": "python3"
  },
  "language_info": {
   "codemirror_mode": {
    "name": "ipython",
    "version": 3
   },
   "file_extension": ".py",
   "mimetype": "text/x-python",
   "name": "python",
   "nbconvert_exporter": "python",
   "pygments_lexer": "ipython3",
   "version": "3.10.11"
  }
 },
 "nbformat": 4,
 "nbformat_minor": 2
}
