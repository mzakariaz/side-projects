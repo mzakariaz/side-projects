{
 "cells": [
  {
   "cell_type": "markdown",
   "metadata": {},
   "source": [
    "# **Option Pricing - Binomial Tree Model (Work in Progress)**\n",
    "## **Contents**\n",
    "1. [Introduction](#Introduction)\n",
    "2. [European Options](#European-Options)\n",
    "3. [American Options](#American-Options)\n",
    "4. [Asian Options](#Asian-Options)\n",
    "5. [Barrier Options](#Barrier-Options)"
   ]
  }
 ],
 "metadata": {
  "kernelspec": {
   "display_name": "Python 3",
   "language": "python",
   "name": "python3"
  },
  "language_info": {
   "codemirror_mode": {
    "name": "ipython",
    "version": 3
   },
   "file_extension": ".py",
   "mimetype": "text/x-python",
   "name": "python",
   "nbconvert_exporter": "python",
   "pygments_lexer": "ipython3",
   "version": "3.10.11"
  }
 },
 "nbformat": 4,
 "nbformat_minor": 2
}
