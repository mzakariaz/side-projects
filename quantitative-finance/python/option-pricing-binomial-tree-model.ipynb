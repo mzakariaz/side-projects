{
 "cells": [
  {
   "cell_type": "markdown",
   "metadata": {},
   "source": [
    "# **Option Pricing - Binomial Tree Model (Work in Progress)**\n",
    "## **Contents**\n",
    "1. [Introduction](#Introduction)\n",
    "2. [Background](#Background)\n",
    "3. [European Options](#European-Options)\n",
    "4. [American Options](#American-Options)\n",
    "5. [Asian Options](#Asian-Options)\n",
    "6. [Barrier Options](#Barrier-Options)\n",
    "7. [Credits](#Credits)\n",
    "\n",
    "## **Introduction**\n",
    "The purpose of this project is to implement option pricing algorithms in the binomial tree model using Python. The `time`, `numpy`, `scipy`, `pandas`, `matplotlib`, `seaborn`, `yfinance` and `warnings` libraries are imported. Moreover, the plot styles are adjusted for aesthetic reasons."
   ]
  },
  {
   "cell_type": "code",
   "execution_count": null,
   "metadata": {},
   "outputs": [],
   "source": [
    "import time as tm\n",
    "import numpy as np\n",
    "import scipy as sp\n",
    "import pandas as pd\n",
    "import matplotlib.pyplot as plt\n",
    "import seaborn as sns\n",
    "import yfinance as yf\n",
    "import warnings as wrn\n",
    "\n",
    "\n",
    "np.random.seed(30)\n",
    "palette = sns.color_palette(\"viridis_r\", as_cmap=True)\n",
    "sns.set_style(style = \"whitegrid\", rc = {\"font.family\":\"Times New Roman\", \"font.weight\":\"bold\"})\n",
    "wrn.simplefilter(action='ignore', category=FutureWarning)"
   ]
  },
  {
   "cell_type": "markdown",
   "metadata": {},
   "source": [
    "## **Background**\n",
    "## **European Options**\n",
    "$$\\Phi(S_{T}) = \\left(S_{T} - K\\right)^{+}$$\n",
    "$$\\Phi(S_{T}) = \\left(K - S_{T}\\right)^{+}$$\n",
    "\n",
    "## **American Options**\n",
    "$$\\dots$$\n",
    "## **Asian Options**\n",
    "$$\\Phi(S_{T}) = \\left(\\frac{1}{T}\\int_{0}^{T}S_{t}\\mathrm{d}t - K\\right)^{+}$$\n",
    "$$\\Phi(S_{T}) = \\left(K - \\frac{1}{T}\\int_{0}^{T}S_{t}\\mathrm{d}t\\right)^{+}$$\n",
    "$$\\Phi(S_{T}) = \\left(\\frac{1}{T}\\int_{0}^{T}S_{t}\\mathrm{d}t - S_{T}\\right)^{+}$$\n",
    "$$\\Phi(S_{T}) = \\left(S_{T} - \\frac{1}{T}\\int_{0}^{T}S_{t}\\mathrm{d}t\\right)^{+}$$\n",
    "## **Barrier Options**\n",
    "$$\\Phi(S_{T}) = \\left(S_{T} - K\\right)^{+}\\mathbf{1}_{\\left\\{S_{t} < B\\right\\}}$$\n",
    "$$\\Phi(S_{T}) = \\left(S_{T} - K\\right)^{+}\\mathbf{1}_{\\left\\{S_{t} > B\\right\\}}$$\n",
    "$$\\Phi(S_{T}) = \\left(K - S_{T}\\right)^{+}\\mathbf{1}_{\\left\\{S_{t} < B\\right\\}}$$\n",
    "$$\\Phi(S_{T}) = \\left(K - S_{T}\\right)^{+}\\mathbf{1}_{\\left\\{S_{t} > B\\right\\}}$$\n",
    "## **Credits**"
   ]
  }
 ],
 "metadata": {
  "kernelspec": {
   "display_name": "Python 3",
   "language": "python",
   "name": "python3"
  },
  "language_info": {
   "codemirror_mode": {
    "name": "ipython",
    "version": 3
   },
   "file_extension": ".py",
   "mimetype": "text/x-python",
   "name": "python",
   "nbconvert_exporter": "python",
   "pygments_lexer": "ipython3",
   "version": "3.10.11"
  }
 },
 "nbformat": 4,
 "nbformat_minor": 2
}
