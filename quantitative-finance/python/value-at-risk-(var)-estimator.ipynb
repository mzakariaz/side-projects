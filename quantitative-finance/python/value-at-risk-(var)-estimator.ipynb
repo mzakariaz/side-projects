{
 "cells": [
  {
   "cell_type": "markdown",
   "metadata": {},
   "source": [
    "# **Value-at-Risk (VaR) Estimator (Work In Progress)**\n",
    "\n",
    "## **Contents**\n",
    "1. [Introduction](#Introduction)\n",
    "2. [Risk Functions](#Risk-Functions)\n",
    "   * [Value-at-Risk (VaR)](#Value-at-Risk-(VaR))\n",
    "   * [Expected Shortfall (ES)](#Expected-Shortfall-(ES))\n",
    "   * [Robust Value-at-Risk (RVaR)](#Robust-Value-at-Risk-(RVaR))\n",
    "3. [Historical Method](#Historical-Method)\n",
    "   * [Application of the Historical Method](#Application-of-the-Historical-Method)\n",
    "   * [Python Implementation of the Historical-Method](#Python-Implementation-of-the-Historical-Method)\n",
    "4. [Parametric Method](#Parametric-Method)\n",
    "   * [Application of the Parametric Method](#Application-of-the-Parametric-Method)\n",
    "   * [Python Implementation of the Parametric Method](#Python-Implementation-of-the-Parametric-Method)\n",
    "5. [Monte Carlo Method](#Monte-Carlo-Method)\n",
    "   * [Application of the Parametric Method](#Application-of-the-Parametric-Method)\n",
    "   * [Python Implementation of the Parametric Method](#Python-Implementation-of-the-Parametric-Method)\n",
    "6. [Credits](#Credits)\n",
    "\n",
    "## **Introduction**\n",
    "The purpose of this project is to provide a method to immediately estimate, using Python, the Value-at-Risk (VaR), and related risk functions, of a portfolio of risk-bearing assets. The `time`, `datetime`, `numpy`, `scipy`, `sympy`, `pandas`, `matplotlib`, `seaborn`, `yfinance`, `pypfopt`, `riskfolio` and `warnings` libraries will be imported. Moreover, a random seed value is set for reprodicibility and the plot styles are modified for aesthetic reasons."
   ]
  },
  {
   "cell_type": "code",
   "execution_count": null,
   "metadata": {},
   "outputs": [],
   "source": [
    "import time as tm\n",
    "import datetime as dt\n",
    "import numpy as np\n",
    "import scipy as sp\n",
    "import sympy as smp\n",
    "import pandas as pd\n",
    "import matplotlib.pyplot as plt\n",
    "import seaborn as sns\n",
    "import yfinance as yf\n",
    "import pypfopt as ppf\n",
    "import riskfolio as rsk\n",
    "import warnings as wrn\n",
    "\n",
    "np.random.seed(30)\n",
    "palette = sns.color_palette(\"viridis_r\", as_cmap=True)\n",
    "sns.set_style(style = \"whitegrid\", rc = {\"font.family\":\"Times New Roman\", \"font.weight\":\"bold\"})\n",
    "wrn.simplefilter(action='ignore', category=FutureWarning)\n",
    "\n",
    "tickers = [\"MSFT\", \"AAPL\", \"NVDA\", \"AMZN\"]\n",
    "start_date = dt.datetime.strptime(\"2013-01-01\", \"%Y-%m-%d\")\n",
    "end_date = dt.datetime.strptime(\"2018-01-01\", \"%Y-%m-%d\")\n",
    "data = yf.download(tickers, start_date, end_date, progress = False)[\"Adj Close\"]\n",
    "data.head()"
   ]
  },
  {
   "cell_type": "markdown",
   "metadata": {},
   "source": [
    "## **Risk Functions**\n",
    "Let $\\left(\\Omega, \\mathscr{F}, \\mathbb{P}\\right)$ be a probability space, let $(\\mu, \\sigma)$ be an ordered pair in $\\mathbb{R}^{*} \\times \\mathbb{R}_{+}^{*}$, let $(S_{t})_{t \\in \\mathbb{R}_{+}}$ be a geometric Brownian motion with percentage drift $\\mu$ and percentage volatility $\\sigma$ on $\\left(\\Omega, \\mathscr{F}, \\mathbb{P}\\right)$ such that $S_{0} \\substack{\\mathbb{P}\\text{-a.s.} \\\\ \\neq} 0$ and let $(h, \\alpha)$ be an ordered pair in $\\mathbb{R}_{+}^{*} \\times ]0,1[$.\n",
    "- The *profit-and-loss distribution of $(S_{t})_{t \\in \\mathbb{R}_{+}}$ at horizon $h$* is the stochastic process denoted by $(L_{t, h})_{t \\in \\mathbb{R}_{+}}$ and defined by:\n",
    "$$\\forall (\\omega, t) \\in \\Omega \\times \\mathbb{R}_{+}, \\enspace L_{t, h}(\\omega) = S_{t + h}(\\omega) - S_{t}(\\omega)$$\n",
    "- The *relative return distribution of $(S_{t})_{t \\in \\mathbb{R}_{+}}$ at horizon $h$* is the stochastic process denoted by $(R_{t, h})_{t \\in \\mathbb{R}_{+}}$ and defined by:\n",
    "$$\\forall (\\omega, t) \\in \\Omega \\times \\mathbb{R}_{+}, \\enspace R_{t, h}(\\omega) = \\frac{S_{t + h}(\\omega) - S_{t}(\\omega)}{S_{t}(\\omega)}$$\n",
    "Here, the stochastic process $(S_{t})_{t \\in \\mathbb{R}_{+}}$ can represent the price of a single risk-bearing financial asset, or the overall value of a portfolio of risk-bearning financial asset.\n",
    "\n",
    "### **Value-at-Risk (VaR)**\n",
    "For every positive real number $t$ in $\\mathbb{R}_{+}$ the *Value-at-Risk (VaR) of $S_{t}$ at siginificance level $\\alpha$ and horizon $h$* is the real number denoted by $\\mathrm{VaR}_{\\alpha, h}\\left(S_{t}\\right)$ and defined by:\n",
    "$$\\mathrm{VaR}_{\\alpha, h}\\left(S_{t}\\right) = -\\inf\\left(\\left\\{x \\in \\mathbb{R} \\colon \\enspace F_{L_{t, h}}(x) > \\alpha\\right\\}\\right)$$\n",
    "\n",
    "### **Expected Shortfall (ES)**\n",
    "For every positive real number $t$ in $\\mathbb{R}_{+}$ the *Expected Shortfall (ES) of $S_{t}$ at siginificance level $\\alpha$ and horizon $h$* is the real number denoted by $\\mathrm{ES}_{\\alpha, h}\\left(S_{t}\\right)$ and defined by:\n",
    "$$\\mathrm{ES}_{\\alpha, h}\\left(S_{t}\\right) = -\\frac{1}{\\alpha}\\int_{0}^{\\alpha}\\mathrm{VaR}_{\\gamma, h}\\left(S_{t}\\right)\\mathrm{d}\\gamma$$\n",
    "The expected shortfall is also called the Conditional Value-at-Risk (CVaR).\n",
    "\n",
    "\n",
    "### **Robust Value-at-Risk (RVaR)**\n",
    "Let $\\beta$ be a strictly positive real number in $]0,1[$ such that $\\alpha < \\beta$. For every positive real number $t$ in $\\mathbb{R}_{+}$ the *Robust Value-at-Risk of $S_{t}$ between siginificance levels $\\alpha$ and $\\beta$ and at horizon $h$* is the real number denoted by $\\mathrm{RVaR}_{\\alpha, \\beta, h}\\left(S_{t}\\right)$ and defined by:\n",
    "$$\\mathrm{RVaR}_{\\alpha, \\beta, h}\\left(S_{t}\\right) = -\\frac{1}{\\beta - \\alpha}\\int_{\\alpha}^{\\beta}\\mathrm{VaR}_{\\gamma, h}\\left(S_{t}\\right)\\mathrm{d}\\gamma$$\n",
    "\n",
    "In most cases, the exact values of each of the above three risk functions cannot be calculated directly. There are, however, three methods that stand out in calculating each of them: \n",
    "- The historical method (which estimates the values of the risk functions from the quantiles of past data of the profit-and-loss distribution of the underlying geometric Brownian motion);\n",
    "- The parametric method (which estimates the values of the risk functions from the parameters of the distribution of past data of the profit-and-loss distribution of the underlying geometric Brownian motion), and;\n",
    "- The Monte Carlo method (which estimates the values of the risk functions by repeated random sampling from the distribution of past data of the profit-and-loss distribution of the underlying geometric Brownian motion)\n",
    "The details of each of the above three methods, as well as their Python implementation, is given in the following sections.\n",
    "\n",
    "## **Historical Method**\n",
    "### **Application of the Historical Method**\n",
    "The following is a general procedure for estimating the risk functions via the historical method:\n",
    "1. Retrieve the historical price data of the underlying asset or portfolio of assets, the frequency being the time horizon of choice;\n",
    "2. Calculate the profit-and-loss distribution corresponding to this historical price data;\n",
    "3. Determine the relevant estimates of the values of the risk functions as follows:\n",
    "   * In order to calculate $\\mathrm{VaR}_{\\alpha, h}(S_{t})$, select the negative of the $\\alpha$-quantile of the profit-and-loss distribution.\n",
    "   * In order to calculate $\\mathrm{ES}_{\\alpha, h}(S_{t})$, calculate the negative of the mean of all values in the profit-and-loss distribution not exceeding its $\\alpha$-quantile.\n",
    "   * In order to calculate $\\mathrm{RVaR}_{\\alpha, \\beta, h}(S_{t})$, calculate the negative of the mean of all values in the profit-and-loss distribution not between its $\\alpha$-quantile and its $\\beta$-quantile.\n",
    "The historical method makes no *a priori* assumption about the profit-and-loss distribution. It only retireves the quantiles of interest.\n",
    "\n",
    "### **Python Implementation of the Historical Method**\n",
    "The Python implementation of the historical method for estimating the values of the above three risk functions is given in the code cell below."
   ]
  },
  {
   "cell_type": "code",
   "execution_count": 7,
   "metadata": {},
   "outputs": [],
   "source": [
    "def Historical_VaR(tickers, start_date, end_date, weights, show_performance_metrics = False, show_visualizations = False):\n",
    "    data = yf.download(tickers, start_date, end_date)[\"Adj Close\"]\n",
    "\n",
    "\n",
    "### TO BE CONTINUED"
   ]
  },
  {
   "cell_type": "markdown",
   "metadata": {},
   "source": [
    "## **Parametric Method**\n",
    "### **Application of the Parametric Method**\n",
    "### **Python Implementation of the Parametric Method**"
   ]
  },
  {
   "cell_type": "markdown",
   "metadata": {},
   "source": [
    "## **Monte Carlo Method**\n",
    "### **Application of the Monte Carlo Method**\n",
    "### **Python Implementation of the Monte Carlo Method**"
   ]
  },
  {
   "cell_type": "markdown",
   "metadata": {},
   "source": [
    "## **Credits**\n",
    "* Wikipedia contributors, \"[Value at risk](https://en.wikipedia.org/w/index.php?title=Value_at_risk&oldid=1207006629),\" Wikipedia, The Free Encyclopedia (accessed February 29, 2024).\n",
    "* Wikipedia contributors, \"[Expected shortfall](https://en.wikipedia.org/w/index.php?title=Expected_shortfall&oldid=1191488388),\" Wikipedia, The Free Encyclopedia (accessed February 29, 2024)."
   ]
  }
 ],
 "metadata": {
  "kernelspec": {
   "display_name": "Python 3",
   "language": "python",
   "name": "python3"
  },
  "language_info": {
   "codemirror_mode": {
    "name": "ipython",
    "version": 3
   },
   "file_extension": ".py",
   "mimetype": "text/x-python",
   "name": "python",
   "nbconvert_exporter": "python",
   "pygments_lexer": "ipython3",
   "version": "3.10.11"
  }
 },
 "nbformat": 4,
 "nbformat_minor": 2
}
