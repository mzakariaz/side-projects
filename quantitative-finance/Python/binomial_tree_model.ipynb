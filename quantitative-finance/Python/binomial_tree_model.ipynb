{
 "cells": [
  {
   "cell_type": "markdown",
   "metadata": {},
   "source": [
    "# **Option Pricing in the Binomial Tree Model (Work in Progress)**\n",
    "## **Contents**\n",
    "1. [Introduction](#Introduction)\n",
    "2. [European Options](#European-Options)\n",
    "   - [European Call Options](#European-Call-Options)\n",
    "   - [European Put Options](#European-Put-Options)\n",
    "3. [American Options](#American-Options)\n",
    "   - [American Call Options](#American-Call-Options)\n",
    "   - [American Put Options](#American-Put-Options)\n",
    "4. [Asian Options](#Asian-Options)\n",
    "   - [Asian Fixed Strike Options](#Asian-Fixed-Strike-Options)\n",
    "     * [Asian Fixed Strike Call Options](#Asian-Fixed-Strike-Call-Options)\n",
    "     * [Asian Fixed Strike Put Options](#Asian-Fixed-Strike-Put-Options)\n",
    "   - [Asian Floating Strike Options](#Asian-Floating-Strike-Options)\n",
    "     * [Asian Floating Strike Call Options](#Asian-Floating-Strike-Call-Options)\n",
    "     * [Asian Floating Strike Put Options](#Asian-Floating-Strike-Put-Options)\n",
    "5. [Barrier Options](#Barrier-Options)\n",
    "   - [Up-and-Out Barrier Options](#Up-and-Out-Barrier-Options)\n",
    "   - [Down-and-Out Barrier Options](#Down-and-Out-Barrier-Options)\n",
    "   - [Double Barrier Options](#Double-Barrier-Options)\n",
    "6. [Credits](#Credits)"
   ]
  },
  {
   "cell_type": "markdown",
   "metadata": {},
   "source": [
    "## **Introduction**\n",
    "This project aims to implement option pricing algorithms in the binomial tree model, using Python. In particular, the `time` and `numpy` libraries will be imported."
   ]
  },
  {
   "cell_type": "markdown",
   "metadata": {},
   "source": [
    "## **European Options**\n",
    "### **European Call Options**\n",
    "### **European Put Options**"
   ]
  },
  {
   "cell_type": "markdown",
   "metadata": {},
   "source": [
    "## **American Options**\n",
    "### **American Call Options**\n",
    "### **American Put Options**"
   ]
  },
  {
   "cell_type": "markdown",
   "metadata": {},
   "source": [
    "## **Asian Options**\n",
    "### **Asian Fixed Strike Options**\n",
    "#### **Asian Fixed Strike Call Options**\n",
    "#### **Asian Fixed Strike Put Options**\n",
    "### **Asian Floating Strike Options**\n",
    "#### **Asian Floating Strike Call Options**\n",
    "#### **Asian Floating Strike Put Options**"
   ]
  },
  {
   "cell_type": "markdown",
   "metadata": {},
   "source": [
    "## **Barrier Options**\n",
    "### **Up-and-Out Barrier Options**\n",
    "### **Down-and-Out Barrier Options**\n",
    "### **Double Barrier Options**"
   ]
  },
  {
   "cell_type": "markdown",
   "metadata": {},
   "source": [
    "## **Credits**\n",
    "- The original code is provided as-is in this project by Zakaria Zerrouki "
   ]
  }
 ],
 "metadata": {
  "kernelspec": {
   "display_name": "Python 3",
   "language": "python",
   "name": "python3"
  },
  "language_info": {
   "codemirror_mode": {
    "name": "ipython",
    "version": 3
   },
   "file_extension": ".py",
   "mimetype": "text/x-python",
   "name": "python",
   "nbconvert_exporter": "python",
   "pygments_lexer": "ipython3",
   "version": "3.10.11"
  }
 },
 "nbformat": 4,
 "nbformat_minor": 2
}
