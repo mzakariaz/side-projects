{
 "cells": [
  {
   "attachments": {},
   "cell_type": "markdown",
   "metadata": {},
   "source": [
    "<h1><b>Summary Statistics</b></h1>\n",
    "<h2><b>1) Expectation, Variance and Standard Deviation</b></h2>\n",
    "<h3><b>a) Definitions</b></h3>\n",
    "<h4>Definition:</h4>\n",
    "<p>\n",
    "\n",
    "Let $(\\Omega,\\mathscr{A},\\mathbf{P})$ be a probability space and let $X$ be a $\\mathbb{R}$-valued random variable in $\\mathrm{L}^{0}(\\Omega,\\mathscr{A},\\mathbf{P})$.\n",
    "\n",
    "<ul>\n",
    "\n",
    "<li>\n",
    "\n",
    "The random variable $X$ is <b>integrable</b> if and only if the following condition is satisfied:\n",
    "$$\\int_{\\Omega}\\lvert X\\rvert\\mathrm{d}\\mathbf{P} < +\\infty$$\n",
    "</li>\n",
    "\n",
    "<li>\n",
    "\n",
    "The set of <b>integrable random variables</b> on $(\\Omega,\\mathscr{A},\\mathbf{P})$ is the set denoted by $\\mathrm{L}^{1}(\\Omega,\\mathscr{A},\\mathbf{P})$ and defined by:\n",
    "$$\\mathrm{L}^{1}(\\Omega,\\mathscr{A},\\mathbf{P}) = \\left\\{X \\in \\mathrm{L}^{0}(\\Omega,\\mathscr{A},\\mathbf{P}) \\colon \\enspace \\int_{\\Omega}\\lvert X\\rvert\\mathrm{d}\\mathbf{P} < +\\infty\\right\\}$$\n",
    "</li>\n",
    "\n",
    "<li>\n",
    "\n",
    "The random variable $X$ is <b>square-integrable</b> if and only if the following condition is satisfied:\n",
    "$$\\int_{\\Omega}\\lvert X\\rvert^2\\mathrm{d}\\mathbf{P} < +\\infty$$\n",
    "</li>\n",
    "\n",
    "<li>\n",
    "\n",
    "The set of <b>square-integrable random variables</b> on $(\\Omega,\\mathscr{A},\\mathbf{P})$ is the set denoted by $\\mathrm{L}^{2}(\\Omega,\\mathscr{A},\\mathbf{P})$ and defined by:\n",
    "$$\\mathrm{L}^{2}(\\Omega,\\mathscr{A},\\mathbf{P}) = \\left\\{X \\in \\mathrm{L}^{0}(\\Omega,\\mathscr{A},\\mathbf{P}) \\colon \\enspace \\int_{\\Omega}\\lvert X\\rvert^2\\mathrm{d}\\mathbf{P} < +\\infty\\right\\}$$\n",
    "</li>\n",
    "\n",
    "\n",
    "</ul>\n",
    "\n",
    "</p>\n",
    "\n",
    "<h4>Definition:</h4>\n",
    "<p>\n",
    "\n",
    "Let $(\\Omega,\\mathscr{A},\\mathbf{P})$ be a probability space and let $X$ be a $\\mathbb{R}$-valued random variable in $\\mathrm{L}^{0}(\\Omega,\\mathscr{A},\\mathbf{P})$.\n",
    "\n",
    "<ul>\n",
    "\n",
    "<li>\n",
    "\n",
    "If $X \\in \\mathrm{L}^{1}(\\Omega,\\mathscr{A},\\mathbf{P})$, the <b>expectation</b> (or <b>expected value</b>, or <b>mean</b>) of $X$ is the real number denoted by $\\mathbf{E}(X)$ and defined by:\n",
    "$$\\mathbf{E}(X) = \\int_{\\Omega}X\\mathrm{d}\\mathbf{P}$$\n",
    "</li>\n",
    "\n",
    "<li>\n",
    "\n",
    "If $X \\in \\mathrm{L}^{2}(\\Omega,\\mathscr{A},\\mathbf{P})$, the <b>variance</b> of $X$ is the positive real number denoted by $\\mathbf{V}(X)$ and defined by:\n",
    "$$\\mathbf{V}(X) = \\mathbf{E}\\left(\\left(X-\\mathbf{E}(X)\\right)^2\\right)$$\n",
    "</li>\n",
    "\n",
    "<li>\n",
    "\n",
    "If $X \\in \\mathrm{L}^{2}(\\Omega,\\mathscr{A},\\mathbf{P})$, the <b>standard deviation</b> of $X$ is the positive real number denoted by $\\sigma(X)$ and defined by:\n",
    "$$\\sigma(X) = \\sqrt{\\mathbf{V}(X)}$$\n",
    "</li>\n",
    "\n",
    "\n",
    "</ul>\n",
    "\n",
    "</p>\n",
    "\n",
    "<h3><b>b) Properties</b></h3>\n",
    "<h4>Proposition:</h4>\n",
    "<p>\n",
    "\n",
    "Let $(\\Omega,\\mathscr{A},\\mathbf{P})$ be a probability space, let $\\lambda$ be a real number in $\\mathbb{R}$ and let $X$ and $Y$ be $\\mathbb{R}$-valued random variables in $\\mathrm{L}^{0}(\\Omega,\\mathscr{A},\\mathbf{P})$. Then:\n",
    "\n",
    "<ul>\n",
    "\n",
    "<li>\n",
    "\n",
    "If $\\left(X,Y\\right) \\in \\mathrm{L}^{1}(\\Omega,\\mathscr{A},\\mathbf{P})^2$, then $X+Y \\in \\mathrm{L}^{1}(\\Omega,\\mathscr{A},\\mathbf{P})$, $X \\times Y \\in \\mathrm{L}^{1}(\\Omega,\\mathscr{A},\\mathbf{P})$ and:\n",
    "$$\\mathbf{E}(X+Y) = \\mathbf{E}(X)+\\mathbf{E}(Y)$$\n",
    "</li>\n",
    "\n",
    "<li>\n",
    "\n",
    "If $X \\in \\mathrm{L}^{1}(\\Omega,\\mathscr{A},\\mathbf{P})$, then $\\lambda\\cdot X \\in \\mathrm{L}^{1}(\\Omega,\\mathscr{A},\\mathbf{P})$ and:\n",
    "$$\\mathbf{E}(\\lambda\\cdot X) = \\lambda\\cdot\\mathbf{E}(X)$$\n",
    "</li>\n",
    "\n",
    "<li>\n",
    "\n",
    "If $X \\in \\mathrm{L}^{2}(\\Omega,\\mathscr{A},\\mathbf{P})$, then:\n",
    "$$\\mathbf{V}(X) = \\mathbf{E}\\left(X^2\\right) - \\mathbf{E}(X)^2$$\n",
    "</li>\n",
    "\n",
    "<li>\n",
    "\n",
    "If $X \\in \\mathrm{L}^{2}(\\Omega,\\mathscr{A},\\mathbf{P})$, then $\\lambda\\cdot X \\in \\mathrm{L}^{2}(\\Omega,\\mathscr{A},\\mathbf{P})$ and:\n",
    "$$\\mathbf{V}(\\lambda\\cdot X) = \\lambda^2\\cdot\\mathbf{V}(X)$$\n",
    "$$\\sigma(\\lambda\\cdot X) = \\lvert\\lambda\\rvert\\sigma(X)$$\n",
    "</li>\n",
    "\n",
    "\n",
    "</ul>\n",
    "\n",
    "</p>\n"
   ]
  },
  {
   "attachments": {},
   "cell_type": "markdown",
   "metadata": {},
   "source": [
    "<h2><b>2) Covariance and Correlation</b></h2>\n",
    "<h3><b>a) Definition</b></h3>\n",
    "<h4>Definition:</h4>\n",
    "<p>\n",
    "\n",
    "Let $(\\Omega,\\mathscr{A},\\mathbf{P})$ be a probability space and let $X$ and $Y$ be integrable $\\mathbb{R}$-valued random variables in $\\mathrm{L}^{1}(\\Omega,\\mathscr{A},\\mathbf{P})$.\n",
    "\n",
    "<ul>\n",
    "\n",
    "<li>\n",
    "\n",
    "The <b>covariance</b> of $X$ and $Y$ is the real number denoted by $\\mathbf{Cov}(X,Y)$ and defined by:\n",
    "$$\\mathbf{Cov}(X,Y) = \\mathbf{E}\\left(\\left(X-\\mathbf{E}(X)\\right)\\left(Y-\\mathbf{E}(Y)\\right)\\right)$$\n",
    "</li>\n",
    "\n",
    "<li>\n",
    "\n",
    "If $\\left(X,Y\\right) \\in \\mathrm{L}^{2}(\\Omega,\\mathscr{A},\\mathbf{P})^2$ and $0 \\notin \\{\\sigma(X),\\sigma(Y)\\}$ the <b>correlation</b> (or <b>linear correlation coefficient</b>) of $X$ and $Y$ is the real number denoted by $\\rho(X,Y)$ and defined by:\n",
    "$$\\rho(X,Y) = \\frac{\\mathbf{Cov}(X,Y)}{\\sigma(X)\\sigma(Y)}$$\n",
    "</li>\n",
    "\n",
    "\n",
    "</ul>\n",
    "\n",
    "</p>\n",
    "\n",
    "<h3><b>b) Properties</b></h3>\n",
    "<h4>Proposition:</h4>\n",
    "<p>\n",
    "\n",
    "Let $(\\Omega,\\mathscr{A},\\mathbf{P})$ be a probability space, let $\\lambda$ and $\\mu$ be a real numbers in $\\mathbb{R}$ and let $X$, $Y$ and $Z$ be $\\mathbb{R}$-valued random variables in $\\mathrm{L}^{1}(\\Omega,\\mathscr{A},\\mathbf{P})$. Then:\n",
    "\n",
    "<ul>\n",
    "\n",
    "<li>\n",
    "\n",
    "$\\mathbf{Cov}(X,Y) = \\mathbf{Cov}(Y,X)$\n",
    "</li>\n",
    "\n",
    "<li>\n",
    "\n",
    "$\\mathbf{Cov}(X,Y) = \\mathbf{E}(XY)-\\mathbf{E}(X)\\mathbf{E}(Y)$\n",
    "</li>\n",
    "\n",
    "<li>\n",
    "\n",
    "$\\mathbf{Cov}(\\lambda X, \\mu Y) = \\lambda\\mu\\mathbf{Cov}(X,Y)$\n",
    "</li>\n",
    "\n",
    "<li>\n",
    "\n",
    "$\\mathbf{Cov}(X+Z,Y) = \\mathbf{Cov}(X,Y)+\\mathbf{Cov}(Z,Y)$\n",
    "</li>\n",
    "\n",
    "<li>\n",
    "\n",
    "$\\mathbf{Cov}(X,Y+Z) = \\mathbf{Cov}(X,Y)+\\mathbf{Cov}(X,Z)$\n",
    "</li>\n",
    "\n",
    "<li>\n",
    "\n",
    "If $X \\in \\mathrm{L}^{2}(\\Omega,\\mathscr{A},\\mathbf{P})$, then:\n",
    "$$\\mathbf{V}(X) = \\mathbf{Cov}(X,X)$$\n",
    "</li>\n",
    "\n",
    "</ul>\n",
    "\n",
    "</p>"
   ]
  },
  {
   "attachments": {},
   "cell_type": "markdown",
   "metadata": {},
   "source": [
    "<h2><b>3) Python Implementations Using NumPy</b></h2>"
   ]
  },
  {
   "cell_type": "code",
   "execution_count": 56,
   "metadata": {},
   "outputs": [],
   "source": [
    "import numpy as np\n",
    "import pandas as pd\n",
    "import matplotlib as plt"
   ]
  },
  {
   "attachments": {},
   "cell_type": "markdown",
   "metadata": {},
   "source": [
    "<h3><b>a) Expectation</b></h3>"
   ]
  },
  {
   "cell_type": "code",
   "execution_count": 57,
   "metadata": {},
   "outputs": [
    {
     "data": {
      "text/plain": [
       "54.82"
      ]
     },
     "execution_count": 57,
     "metadata": {},
     "output_type": "execute_result"
    }
   ],
   "source": [
    "X = np.random.randint(1,101,size=100)\n",
    "np.mean(X)"
   ]
  },
  {
   "attachments": {},
   "cell_type": "markdown",
   "metadata": {},
   "source": [
    "<h3><b>b) Variance</b></h3>"
   ]
  },
  {
   "cell_type": "code",
   "execution_count": 58,
   "metadata": {},
   "outputs": [
    {
     "data": {
      "text/plain": [
       "780.7691"
      ]
     },
     "execution_count": 58,
     "metadata": {},
     "output_type": "execute_result"
    }
   ],
   "source": [
    "X = np.random.randint(1,101,size=100)\n",
    "np.var(X)"
   ]
  },
  {
   "attachments": {},
   "cell_type": "markdown",
   "metadata": {},
   "source": [
    "<h3><b>c) Standard Deviation</b></h3>"
   ]
  },
  {
   "cell_type": "code",
   "execution_count": 59,
   "metadata": {},
   "outputs": [
    {
     "data": {
      "text/plain": [
       "28.678875500967607"
      ]
     },
     "execution_count": 59,
     "metadata": {},
     "output_type": "execute_result"
    }
   ],
   "source": [
    "X = np.random.randint(1,101,size=100)\n",
    "np.std(X)"
   ]
  },
  {
   "attachments": {},
   "cell_type": "markdown",
   "metadata": {},
   "source": [
    "<h3><b>d) Covariance</b></h3>"
   ]
  },
  {
   "cell_type": "code",
   "execution_count": 60,
   "metadata": {},
   "outputs": [
    {
     "data": {
      "text/plain": [
       "132.16525252525255"
      ]
     },
     "execution_count": 60,
     "metadata": {},
     "output_type": "execute_result"
    }
   ],
   "source": [
    "X = np.random.randint(1,101,size=100)\n",
    "Y = np.random.randint(1,101,size=100)\n",
    "np.cov(X,Y)[0,1]"
   ]
  },
  {
   "attachments": {},
   "cell_type": "markdown",
   "metadata": {},
   "source": [
    "<h3><b>e) Correlation</b></h3>"
   ]
  },
  {
   "cell_type": "code",
   "execution_count": 61,
   "metadata": {},
   "outputs": [
    {
     "data": {
      "text/plain": [
       "0.10064104892656432"
      ]
     },
     "execution_count": 61,
     "metadata": {},
     "output_type": "execute_result"
    }
   ],
   "source": [
    "X = np.random.randint(1,101,size=100)\n",
    "Y = np.random.randint(1,101,size=100)\n",
    "np.corrcoef(X,Y)[0,1]"
   ]
  }
 ],
 "metadata": {
  "kernelspec": {
   "display_name": "base",
   "language": "python",
   "name": "python3"
  },
  "language_info": {
   "codemirror_mode": {
    "name": "ipython",
    "version": 3
   },
   "file_extension": ".py",
   "mimetype": "text/x-python",
   "name": "python",
   "nbconvert_exporter": "python",
   "pygments_lexer": "ipython3",
   "version": "3.9.12"
  },
  "orig_nbformat": 4,
  "vscode": {
   "interpreter": {
    "hash": "53b1e227ae3affe7a9c75dca69384430f79e2764a81c5ed912e2bbff1866e2f0"
   }
  }
 },
 "nbformat": 4,
 "nbformat_minor": 2
}
